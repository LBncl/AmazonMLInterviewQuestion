{
  "nbformat": 4,
  "nbformat_minor": 0,
  "metadata": {
    "colab": {
      "name": "NAFLD.ipynb",
      "provenance": [],
      "authorship_tag": "ABX9TyP/tJeGSh4esGeOr8KAeTdY",
      "include_colab_link": true
    },
    "kernelspec": {
      "name": "python3",
      "display_name": "Python 3"
    },
    "language_info": {
      "name": "python"
    }
  },
  "cells": [
    {
      "cell_type": "markdown",
      "metadata": {
        "id": "view-in-github",
        "colab_type": "text"
      },
      "source": [
        "<a href=\"https://colab.research.google.com/github/LBncl/AmazonMLInterviewQuestion/blob/main/NAFLD.ipynb\" target=\"_parent\"><img src=\"https://colab.research.google.com/assets/colab-badge.svg\" alt=\"Open In Colab\"/></a>"
      ]
    },
    {
      "cell_type": "markdown",
      "source": [
        "# NAFLD PROJECT"
      ],
      "metadata": {
        "id": "JJ8ZGc1YjFZB"
      }
    },
    {
      "cell_type": "markdown",
      "source": [
        "## Imports"
      ],
      "metadata": {
        "id": "Pm6KDT1PjNKB"
      }
    },
    {
      "cell_type": "code",
      "source": [
        "# Imports\n",
        "import missingno as msno\n",
        "import pandas as pd\n",
        "import matplotlib.pyplot as plt\n",
        "import numpy as np"
      ],
      "metadata": {
        "id": "JxvMeYS9iIA3"
      },
      "execution_count": 1,
      "outputs": []
    },
    {
      "cell_type": "markdown",
      "source": [
        "## Data Cleaning"
      ],
      "metadata": {
        "id": "AjLiQ0hJjR3a"
      }
    },
    {
      "cell_type": "code",
      "execution_count": 2,
      "metadata": {
        "id": "FcqiBWkdhpRx"
      },
      "outputs": [],
      "source": [
        "# Read in data\n",
        "df = pd.read_excel('master_with_nordic_and_multiBM.xlsx')\n",
        "\n",
        "# Check if dataFrame is empty\n",
        "if df.empty:\n",
        "    print('DataFrame is empty!')"
      ]
    },
    {
      "cell_type": "code",
      "source": [
        "# Subset data frame\n",
        "main_df = df.filter(items=['CPH_EV_AGE_CALC', 'TBL.PATIENT.INFO..PI_BL_GENDER', 'CPH_EV_CI_BMI_CALC', \n",
        "                         'TBL.ALL.EVENTS..AE_SF_ALCO_XS', 'insulin_resistance', 'hypertensive', 'waist_to_hip_ratio',\n",
        "                         'idf_metabolic_syndrome', 'eGFR', 'dyslipidaemia', 'fibroscan_stiffness_reliable',\n",
        "                         'TBL.ALL.EVENTS..AE_BR_ALT_iuL',\n",
        "                         'TBL.ALL.EVENTS..AE_BR_AST_iuL', 'TBL.ALL.EVENTS..AE_BR_GGT_iuL',\n",
        "                         'TBL.ALL.EVENTS..AE_BR_FERR_ugL',\n",
        "                         'TBL.ALL.EVENTS..AE_BR_PLT_109L', 'TBL.ALL.EVENTS..AE_BR_CREAT_umolL_CALC',\n",
        "                         'TBL.ALL.EVENTS..AE_BR_STG_mmolL_CALC',\n",
        "                         'TBL.ALL.EVENTS..AE_BR_ALBU_gL_CALC', 'TBL.ALL.EVENTS..AE_BR_BILI_umolL_CALC',\n",
        "                         'TBL.ALL.EVENTS..AE_BR_IGA',\n",
        "                         'TBL.ALL.EVENTS..AE_CD_OSA', 'LIT_NB_CK18_M30', 'LIT_NB_CK18_M65', 'LIT_NB_PRO_C3', 'LIT_NB_PRO_C6',\n",
        "                          'LIT_NB_ELF', 'FIB4', 'NFS', 'APRI', 'ADAPT', 'FIBC3', 'ABC3D', 'BARD', 'AST_ALT_Ratio', 'response_1', 'response_2', 'response_3a', 'response_3b', \n",
        "                             'response_4', 'response_5', 'response_6a', 'response_6b', 'response_7'])"
      ],
      "metadata": {
        "id": "1s4uX2A1i5_V"
      },
      "execution_count": 5,
      "outputs": []
    },
    {
      "cell_type": "code",
      "source": [
        "msno.bar(main_df)"
      ],
      "metadata": {
        "id": "xfNW-jzTjEQb"
      },
      "execution_count": null,
      "outputs": []
    },
    {
      "cell_type": "code",
      "source": [
        "from sklearn import preprocessing\n",
        "\n",
        "# Convert required variables to boolean and normlaise the remaining variables\n",
        "features = main_df.iloc[:, 0:35]\n",
        "features.iloc[:, [1,3,4,5,7,9,21]] = features.iloc[:, [1,3,4,5,7,9,21]].astype(bool)\n",
        "cols_normalise = features.select_dtypes(include=[np.float64])\n",
        "features[cols_normalise.columns] = preprocessing.scale(cols_normalise)"
      ],
      "metadata": {
        "id": "QCXqyL6Rj0Cq"
      },
      "execution_count": 7,
      "outputs": []
    },
    {
      "cell_type": "code",
      "source": [
        "# Filter to only select basline event types\n",
        "features['CPH_EV_EVENT_TYPE'] = df['CPH_EV_EVENT_TYPE']\n",
        "features = features.loc[df['CPH_EV_EVENT_TYPE'] == 'Baseline']\n",
        "features = features.iloc[: , :-1]"
      ],
      "metadata": {
        "colab": {
          "base_uri": "https://localhost:8080/",
          "height": 488
        },
        "id": "nA-yM30qLk1F",
        "outputId": "095a1aa8-1145-4cd2-aef7-68b789ac7505"
      },
      "execution_count": 22,
      "outputs": [
        {
          "output_type": "execute_result",
          "data": {
            "text/plain": [
              "       CPH_EV_AGE_CALC  TBL.PATIENT.INFO..PI_BL_GENDER  CPH_EV_CI_BMI_CALC  \\\n",
              "0            -0.417474                            True            1.188363   \n",
              "3            -0.417474                           False           -1.308425   \n",
              "6            -0.570058                            True            0.243116   \n",
              "7            -0.570058                           False            1.154946   \n",
              "8            -0.493766                            True            0.090349   \n",
              "...                ...                             ...                 ...   \n",
              "14231         0.421741                            True           -0.253377   \n",
              "14232        -1.027812                            True           -0.219959   \n",
              "14233         0.498034                            True           -0.395005   \n",
              "14234         0.498034                            True            0.020331   \n",
              "14235        -0.646350                           False            1.435019   \n",
              "\n",
              "       TBL.ALL.EVENTS..AE_SF_ALCO_XS  insulin_resistance  hypertensive  \\\n",
              "0                              False                True         False   \n",
              "3                              False                True          True   \n",
              "6                               True               False         False   \n",
              "7                               True               False         False   \n",
              "8                               True               False          True   \n",
              "...                              ...                 ...           ...   \n",
              "14231                          False                True          True   \n",
              "14232                          False               False         False   \n",
              "14233                          False               False         False   \n",
              "14234                          False                True          True   \n",
              "14235                          False                True          True   \n",
              "\n",
              "       waist_to_hip_ratio  idf_metabolic_syndrome      eGFR  dyslipidaemia  \\\n",
              "0                     NaN                   False  1.625120          False   \n",
              "3               -0.492271                   False       NaN           True   \n",
              "6                     NaN                   False -0.543713          False   \n",
              "7                     NaN                    True  0.297185           True   \n",
              "8                     NaN                    True  0.238236           True   \n",
              "...                   ...                     ...       ...            ...   \n",
              "14231                 NaN                   False       NaN           True   \n",
              "14232           -0.480382                   False       NaN           True   \n",
              "14233                 NaN                    True  4.608980           True   \n",
              "14234                 NaN                    True       NaN           True   \n",
              "14235            1.374787                    True       NaN           True   \n",
              "\n",
              "       ...  LIT_NB_PRO_C6  LIT_NB_ELF      FIB4       NFS      APRI  ADAPT  \\\n",
              "0      ...            NaN         NaN -0.941617  1.097709 -0.575725    NaN   \n",
              "3      ...            NaN         NaN  1.987935 -0.320448  3.422324    NaN   \n",
              "6      ...            NaN         NaN -0.908024 -0.596894 -0.749636    NaN   \n",
              "7      ...            NaN         NaN -0.741440 -0.078982 -0.617846    NaN   \n",
              "8      ...            NaN         NaN -1.067812 -0.648087 -0.746962    NaN   \n",
              "...    ...            ...         ...       ...       ...       ...    ...   \n",
              "14231  ...            NaN         NaN       NaN  0.670164       NaN    NaN   \n",
              "14232  ...            NaN         NaN       NaN -1.073382       NaN    NaN   \n",
              "14233  ...            NaN         NaN -0.277856 -0.461258  0.033026    NaN   \n",
              "14234  ...            NaN         NaN       NaN  0.861205       NaN    NaN   \n",
              "14235  ...            NaN         NaN       NaN  1.131075       NaN    NaN   \n",
              "\n",
              "       FIBC3     ABC3D      BARD  AST_ALT_Ratio  \n",
              "0        NaN  0.326362  1.470121       0.321123  \n",
              "3        NaN  0.326362 -0.898544      -0.601372  \n",
              "6        NaN -0.986470 -0.898544      -0.290186  \n",
              "7        NaN -0.986470 -0.898544      -0.321963  \n",
              "8        NaN -0.986470  0.680566       1.104844  \n",
              "...      ...       ...       ...            ...  \n",
              "14231    NaN  0.982778       NaN            NaN  \n",
              "14232    NaN       NaN       NaN            NaN  \n",
              "14233    NaN -0.330054  0.680566       0.774639  \n",
              "14234    NaN       NaN       NaN            NaN  \n",
              "14235    NaN       NaN       NaN            NaN  \n",
              "\n",
              "[9288 rows x 35 columns]"
            ],
            "text/html": [
              "\n",
              "  <div id=\"df-f1cd857f-ddd1-4b8a-8ec5-559f71f04c3e\">\n",
              "    <div class=\"colab-df-container\">\n",
              "      <div>\n",
              "<style scoped>\n",
              "    .dataframe tbody tr th:only-of-type {\n",
              "        vertical-align: middle;\n",
              "    }\n",
              "\n",
              "    .dataframe tbody tr th {\n",
              "        vertical-align: top;\n",
              "    }\n",
              "\n",
              "    .dataframe thead th {\n",
              "        text-align: right;\n",
              "    }\n",
              "</style>\n",
              "<table border=\"1\" class=\"dataframe\">\n",
              "  <thead>\n",
              "    <tr style=\"text-align: right;\">\n",
              "      <th></th>\n",
              "      <th>CPH_EV_AGE_CALC</th>\n",
              "      <th>TBL.PATIENT.INFO..PI_BL_GENDER</th>\n",
              "      <th>CPH_EV_CI_BMI_CALC</th>\n",
              "      <th>TBL.ALL.EVENTS..AE_SF_ALCO_XS</th>\n",
              "      <th>insulin_resistance</th>\n",
              "      <th>hypertensive</th>\n",
              "      <th>waist_to_hip_ratio</th>\n",
              "      <th>idf_metabolic_syndrome</th>\n",
              "      <th>eGFR</th>\n",
              "      <th>dyslipidaemia</th>\n",
              "      <th>...</th>\n",
              "      <th>LIT_NB_PRO_C6</th>\n",
              "      <th>LIT_NB_ELF</th>\n",
              "      <th>FIB4</th>\n",
              "      <th>NFS</th>\n",
              "      <th>APRI</th>\n",
              "      <th>ADAPT</th>\n",
              "      <th>FIBC3</th>\n",
              "      <th>ABC3D</th>\n",
              "      <th>BARD</th>\n",
              "      <th>AST_ALT_Ratio</th>\n",
              "    </tr>\n",
              "  </thead>\n",
              "  <tbody>\n",
              "    <tr>\n",
              "      <th>0</th>\n",
              "      <td>-0.417474</td>\n",
              "      <td>True</td>\n",
              "      <td>1.188363</td>\n",
              "      <td>False</td>\n",
              "      <td>True</td>\n",
              "      <td>False</td>\n",
              "      <td>NaN</td>\n",
              "      <td>False</td>\n",
              "      <td>1.625120</td>\n",
              "      <td>False</td>\n",
              "      <td>...</td>\n",
              "      <td>NaN</td>\n",
              "      <td>NaN</td>\n",
              "      <td>-0.941617</td>\n",
              "      <td>1.097709</td>\n",
              "      <td>-0.575725</td>\n",
              "      <td>NaN</td>\n",
              "      <td>NaN</td>\n",
              "      <td>0.326362</td>\n",
              "      <td>1.470121</td>\n",
              "      <td>0.321123</td>\n",
              "    </tr>\n",
              "    <tr>\n",
              "      <th>3</th>\n",
              "      <td>-0.417474</td>\n",
              "      <td>False</td>\n",
              "      <td>-1.308425</td>\n",
              "      <td>False</td>\n",
              "      <td>True</td>\n",
              "      <td>True</td>\n",
              "      <td>-0.492271</td>\n",
              "      <td>False</td>\n",
              "      <td>NaN</td>\n",
              "      <td>True</td>\n",
              "      <td>...</td>\n",
              "      <td>NaN</td>\n",
              "      <td>NaN</td>\n",
              "      <td>1.987935</td>\n",
              "      <td>-0.320448</td>\n",
              "      <td>3.422324</td>\n",
              "      <td>NaN</td>\n",
              "      <td>NaN</td>\n",
              "      <td>0.326362</td>\n",
              "      <td>-0.898544</td>\n",
              "      <td>-0.601372</td>\n",
              "    </tr>\n",
              "    <tr>\n",
              "      <th>6</th>\n",
              "      <td>-0.570058</td>\n",
              "      <td>True</td>\n",
              "      <td>0.243116</td>\n",
              "      <td>True</td>\n",
              "      <td>False</td>\n",
              "      <td>False</td>\n",
              "      <td>NaN</td>\n",
              "      <td>False</td>\n",
              "      <td>-0.543713</td>\n",
              "      <td>False</td>\n",
              "      <td>...</td>\n",
              "      <td>NaN</td>\n",
              "      <td>NaN</td>\n",
              "      <td>-0.908024</td>\n",
              "      <td>-0.596894</td>\n",
              "      <td>-0.749636</td>\n",
              "      <td>NaN</td>\n",
              "      <td>NaN</td>\n",
              "      <td>-0.986470</td>\n",
              "      <td>-0.898544</td>\n",
              "      <td>-0.290186</td>\n",
              "    </tr>\n",
              "    <tr>\n",
              "      <th>7</th>\n",
              "      <td>-0.570058</td>\n",
              "      <td>False</td>\n",
              "      <td>1.154946</td>\n",
              "      <td>True</td>\n",
              "      <td>False</td>\n",
              "      <td>False</td>\n",
              "      <td>NaN</td>\n",
              "      <td>True</td>\n",
              "      <td>0.297185</td>\n",
              "      <td>True</td>\n",
              "      <td>...</td>\n",
              "      <td>NaN</td>\n",
              "      <td>NaN</td>\n",
              "      <td>-0.741440</td>\n",
              "      <td>-0.078982</td>\n",
              "      <td>-0.617846</td>\n",
              "      <td>NaN</td>\n",
              "      <td>NaN</td>\n",
              "      <td>-0.986470</td>\n",
              "      <td>-0.898544</td>\n",
              "      <td>-0.321963</td>\n",
              "    </tr>\n",
              "    <tr>\n",
              "      <th>8</th>\n",
              "      <td>-0.493766</td>\n",
              "      <td>True</td>\n",
              "      <td>0.090349</td>\n",
              "      <td>True</td>\n",
              "      <td>False</td>\n",
              "      <td>True</td>\n",
              "      <td>NaN</td>\n",
              "      <td>True</td>\n",
              "      <td>0.238236</td>\n",
              "      <td>True</td>\n",
              "      <td>...</td>\n",
              "      <td>NaN</td>\n",
              "      <td>NaN</td>\n",
              "      <td>-1.067812</td>\n",
              "      <td>-0.648087</td>\n",
              "      <td>-0.746962</td>\n",
              "      <td>NaN</td>\n",
              "      <td>NaN</td>\n",
              "      <td>-0.986470</td>\n",
              "      <td>0.680566</td>\n",
              "      <td>1.104844</td>\n",
              "    </tr>\n",
              "    <tr>\n",
              "      <th>...</th>\n",
              "      <td>...</td>\n",
              "      <td>...</td>\n",
              "      <td>...</td>\n",
              "      <td>...</td>\n",
              "      <td>...</td>\n",
              "      <td>...</td>\n",
              "      <td>...</td>\n",
              "      <td>...</td>\n",
              "      <td>...</td>\n",
              "      <td>...</td>\n",
              "      <td>...</td>\n",
              "      <td>...</td>\n",
              "      <td>...</td>\n",
              "      <td>...</td>\n",
              "      <td>...</td>\n",
              "      <td>...</td>\n",
              "      <td>...</td>\n",
              "      <td>...</td>\n",
              "      <td>...</td>\n",
              "      <td>...</td>\n",
              "      <td>...</td>\n",
              "    </tr>\n",
              "    <tr>\n",
              "      <th>14231</th>\n",
              "      <td>0.421741</td>\n",
              "      <td>True</td>\n",
              "      <td>-0.253377</td>\n",
              "      <td>False</td>\n",
              "      <td>True</td>\n",
              "      <td>True</td>\n",
              "      <td>NaN</td>\n",
              "      <td>False</td>\n",
              "      <td>NaN</td>\n",
              "      <td>True</td>\n",
              "      <td>...</td>\n",
              "      <td>NaN</td>\n",
              "      <td>NaN</td>\n",
              "      <td>NaN</td>\n",
              "      <td>0.670164</td>\n",
              "      <td>NaN</td>\n",
              "      <td>NaN</td>\n",
              "      <td>NaN</td>\n",
              "      <td>0.982778</td>\n",
              "      <td>NaN</td>\n",
              "      <td>NaN</td>\n",
              "    </tr>\n",
              "    <tr>\n",
              "      <th>14232</th>\n",
              "      <td>-1.027812</td>\n",
              "      <td>True</td>\n",
              "      <td>-0.219959</td>\n",
              "      <td>False</td>\n",
              "      <td>False</td>\n",
              "      <td>False</td>\n",
              "      <td>-0.480382</td>\n",
              "      <td>False</td>\n",
              "      <td>NaN</td>\n",
              "      <td>True</td>\n",
              "      <td>...</td>\n",
              "      <td>NaN</td>\n",
              "      <td>NaN</td>\n",
              "      <td>NaN</td>\n",
              "      <td>-1.073382</td>\n",
              "      <td>NaN</td>\n",
              "      <td>NaN</td>\n",
              "      <td>NaN</td>\n",
              "      <td>NaN</td>\n",
              "      <td>NaN</td>\n",
              "      <td>NaN</td>\n",
              "    </tr>\n",
              "    <tr>\n",
              "      <th>14233</th>\n",
              "      <td>0.498034</td>\n",
              "      <td>True</td>\n",
              "      <td>-0.395005</td>\n",
              "      <td>False</td>\n",
              "      <td>False</td>\n",
              "      <td>False</td>\n",
              "      <td>NaN</td>\n",
              "      <td>True</td>\n",
              "      <td>4.608980</td>\n",
              "      <td>True</td>\n",
              "      <td>...</td>\n",
              "      <td>NaN</td>\n",
              "      <td>NaN</td>\n",
              "      <td>-0.277856</td>\n",
              "      <td>-0.461258</td>\n",
              "      <td>0.033026</td>\n",
              "      <td>NaN</td>\n",
              "      <td>NaN</td>\n",
              "      <td>-0.330054</td>\n",
              "      <td>0.680566</td>\n",
              "      <td>0.774639</td>\n",
              "    </tr>\n",
              "    <tr>\n",
              "      <th>14234</th>\n",
              "      <td>0.498034</td>\n",
              "      <td>True</td>\n",
              "      <td>0.020331</td>\n",
              "      <td>False</td>\n",
              "      <td>True</td>\n",
              "      <td>True</td>\n",
              "      <td>NaN</td>\n",
              "      <td>True</td>\n",
              "      <td>NaN</td>\n",
              "      <td>True</td>\n",
              "      <td>...</td>\n",
              "      <td>NaN</td>\n",
              "      <td>NaN</td>\n",
              "      <td>NaN</td>\n",
              "      <td>0.861205</td>\n",
              "      <td>NaN</td>\n",
              "      <td>NaN</td>\n",
              "      <td>NaN</td>\n",
              "      <td>NaN</td>\n",
              "      <td>NaN</td>\n",
              "      <td>NaN</td>\n",
              "    </tr>\n",
              "    <tr>\n",
              "      <th>14235</th>\n",
              "      <td>-0.646350</td>\n",
              "      <td>False</td>\n",
              "      <td>1.435019</td>\n",
              "      <td>False</td>\n",
              "      <td>True</td>\n",
              "      <td>True</td>\n",
              "      <td>1.374787</td>\n",
              "      <td>True</td>\n",
              "      <td>NaN</td>\n",
              "      <td>True</td>\n",
              "      <td>...</td>\n",
              "      <td>NaN</td>\n",
              "      <td>NaN</td>\n",
              "      <td>NaN</td>\n",
              "      <td>1.131075</td>\n",
              "      <td>NaN</td>\n",
              "      <td>NaN</td>\n",
              "      <td>NaN</td>\n",
              "      <td>NaN</td>\n",
              "      <td>NaN</td>\n",
              "      <td>NaN</td>\n",
              "    </tr>\n",
              "  </tbody>\n",
              "</table>\n",
              "<p>9288 rows × 35 columns</p>\n",
              "</div>\n",
              "      <button class=\"colab-df-convert\" onclick=\"convertToInteractive('df-f1cd857f-ddd1-4b8a-8ec5-559f71f04c3e')\"\n",
              "              title=\"Convert this dataframe to an interactive table.\"\n",
              "              style=\"display:none;\">\n",
              "        \n",
              "  <svg xmlns=\"http://www.w3.org/2000/svg\" height=\"24px\"viewBox=\"0 0 24 24\"\n",
              "       width=\"24px\">\n",
              "    <path d=\"M0 0h24v24H0V0z\" fill=\"none\"/>\n",
              "    <path d=\"M18.56 5.44l.94 2.06.94-2.06 2.06-.94-2.06-.94-.94-2.06-.94 2.06-2.06.94zm-11 1L8.5 8.5l.94-2.06 2.06-.94-2.06-.94L8.5 2.5l-.94 2.06-2.06.94zm10 10l.94 2.06.94-2.06 2.06-.94-2.06-.94-.94-2.06-.94 2.06-2.06.94z\"/><path d=\"M17.41 7.96l-1.37-1.37c-.4-.4-.92-.59-1.43-.59-.52 0-1.04.2-1.43.59L10.3 9.45l-7.72 7.72c-.78.78-.78 2.05 0 2.83L4 21.41c.39.39.9.59 1.41.59.51 0 1.02-.2 1.41-.59l7.78-7.78 2.81-2.81c.8-.78.8-2.07 0-2.86zM5.41 20L4 18.59l7.72-7.72 1.47 1.35L5.41 20z\"/>\n",
              "  </svg>\n",
              "      </button>\n",
              "      \n",
              "  <style>\n",
              "    .colab-df-container {\n",
              "      display:flex;\n",
              "      flex-wrap:wrap;\n",
              "      gap: 12px;\n",
              "    }\n",
              "\n",
              "    .colab-df-convert {\n",
              "      background-color: #E8F0FE;\n",
              "      border: none;\n",
              "      border-radius: 50%;\n",
              "      cursor: pointer;\n",
              "      display: none;\n",
              "      fill: #1967D2;\n",
              "      height: 32px;\n",
              "      padding: 0 0 0 0;\n",
              "      width: 32px;\n",
              "    }\n",
              "\n",
              "    .colab-df-convert:hover {\n",
              "      background-color: #E2EBFA;\n",
              "      box-shadow: 0px 1px 2px rgba(60, 64, 67, 0.3), 0px 1px 3px 1px rgba(60, 64, 67, 0.15);\n",
              "      fill: #174EA6;\n",
              "    }\n",
              "\n",
              "    [theme=dark] .colab-df-convert {\n",
              "      background-color: #3B4455;\n",
              "      fill: #D2E3FC;\n",
              "    }\n",
              "\n",
              "    [theme=dark] .colab-df-convert:hover {\n",
              "      background-color: #434B5C;\n",
              "      box-shadow: 0px 1px 3px 1px rgba(0, 0, 0, 0.15);\n",
              "      filter: drop-shadow(0px 1px 2px rgba(0, 0, 0, 0.3));\n",
              "      fill: #FFFFFF;\n",
              "    }\n",
              "  </style>\n",
              "\n",
              "      <script>\n",
              "        const buttonEl =\n",
              "          document.querySelector('#df-f1cd857f-ddd1-4b8a-8ec5-559f71f04c3e button.colab-df-convert');\n",
              "        buttonEl.style.display =\n",
              "          google.colab.kernel.accessAllowed ? 'block' : 'none';\n",
              "\n",
              "        async function convertToInteractive(key) {\n",
              "          const element = document.querySelector('#df-f1cd857f-ddd1-4b8a-8ec5-559f71f04c3e');\n",
              "          const dataTable =\n",
              "            await google.colab.kernel.invokeFunction('convertToInteractive',\n",
              "                                                     [key], {});\n",
              "          if (!dataTable) return;\n",
              "\n",
              "          const docLinkHtml = 'Like what you see? Visit the ' +\n",
              "            '<a target=\"_blank\" href=https://colab.research.google.com/notebooks/data_table.ipynb>data table notebook</a>'\n",
              "            + ' to learn more about interactive tables.';\n",
              "          element.innerHTML = '';\n",
              "          dataTable['output_type'] = 'display_data';\n",
              "          await google.colab.output.renderOutput(dataTable, element);\n",
              "          const docLink = document.createElement('div');\n",
              "          docLink.innerHTML = docLinkHtml;\n",
              "          element.appendChild(docLink);\n",
              "        }\n",
              "      </script>\n",
              "    </div>\n",
              "  </div>\n",
              "  "
            ]
          },
          "metadata": {},
          "execution_count": 22
        }
      ]
    },
    {
      "cell_type": "markdown",
      "source": [
        "## Data Imputation Strategies"
      ],
      "metadata": {
        "id": "nhKAAVJErIz-"
      }
    },
    {
      "cell_type": "code",
      "source": [
        "# Imports for imputation functions\n",
        "from sklearn.impute import SimpleImputer\n",
        "from sklearn.experimental import enable_iterative_imputer\n",
        "from sklearn.impute import IterativeImputer\n",
        "from sklearn.linear_model import LinearRegression\n",
        "from sklearn.ensemble import RandomForestRegressor\n",
        "from sklearn.impute import KNNImputer\n",
        "from sklearn.neighbors import KNeighborsRegressor\n",
        "from sklearn.linear_model import LogisticRegression"
      ],
      "metadata": {
        "id": "b9QfYn0OrOsJ"
      },
      "execution_count": 13,
      "outputs": []
    },
    {
      "cell_type": "code",
      "source": [
        "# Single imputation with mean to replace not a number (NaNs)\n",
        "def nan2mean(fdf):\n",
        "    cols = list(fdf.columns)\n",
        "    imp = SimpleImputer(missing_values=np.nan, strategy='mean')\n",
        "    fdf=imp.fit_transform(fdf)\n",
        "    fdf = pd.DataFrame(fdf, columns=cols)\n",
        "    return fdf"
      ],
      "metadata": {
        "id": "XdhqTVx5rXQ-"
      },
      "execution_count": 14,
      "outputs": []
    },
    {
      "cell_type": "code",
      "source": [
        "# Single imputation with median to replace not a number (NaNs)\n",
        "def nan2median(fdf):\n",
        "    cols = list(fdf.columns)\n",
        "    imp = SimpleImputer(missing_values=np.nan, strategy='median')\n",
        "    fdf=imp.fit_transform(fdf)\n",
        "    fdf = pd.DataFrame(fdf, columns=cols)\n",
        "    return fdf"
      ],
      "metadata": {
        "id": "k-PByFl_rexy"
      },
      "execution_count": 15,
      "outputs": []
    },
    {
      "cell_type": "code",
      "source": [
        "# Single imputation with most_frequent to replace not a number (NaNs)\n",
        "def nan2most_frequent(fdf):\n",
        "    cols = list(fdf.columns)\n",
        "    imp = SimpleImputer(missing_values=np.nan, strategy='most_frequent')\n",
        "    fdf=imp.fit_transform(fdf)\n",
        "    fdf = pd.DataFrame(fdf, columns=cols)\n",
        "    return fdf"
      ],
      "metadata": {
        "id": "a6mf5HU_rhvF"
      },
      "execution_count": 16,
      "outputs": []
    },
    {
      "cell_type": "code",
      "source": [
        "# Multiple Imputation by chained equation linear regression\n",
        "def nan2mice(fdf):\n",
        "    cols = list(fdf.columns)\n",
        "    lr = LinearRegression()\n",
        "    imp = IterativeImputer(estimator=lr,missing_values=np.nan, max_iter=50, imputation_order='roman',random_state=0)\n",
        "    fdf=imp.fit_transform(fdf)\n",
        "    fdf = pd.DataFrame(fdf, columns=cols)\n",
        "    return fdf"
      ],
      "metadata": {
        "id": "vy61XAe0r76R"
      },
      "execution_count": 36,
      "outputs": []
    },
    {
      "cell_type": "code",
      "source": [
        "# Imputation by K neasrest neighbours\n",
        "def nan2knn(fdf):\n",
        "    cols = list(fdf.columns)\n",
        "    imp = KNNImputer(n_neighbors=2, weights=\"distance\")\n",
        "    fdf=imp.fit_transform(fdf)\n",
        "    fdf = pd.DataFrame(fdf, columns=cols)\n",
        "    return fdf"
      ],
      "metadata": {
        "id": "3OCLAwGRuUyu"
      },
      "execution_count": 18,
      "outputs": []
    },
    {
      "cell_type": "code",
      "source": [
        "# function to compare the denisty of raw vs imputed data\n",
        "def compare_denisty(column_name, fdf):\n",
        "    d = {'raw': preprocessing.scale(df[column_name]), 'imputed': fdf[column_name]}\n",
        "    fdata = pd.DataFrame(data=d)\n",
        "    # calling density() to make multiple density plot \n",
        "    fdata.plot.density(figsize = (7, 7),linewidth = 2)\n",
        "    plt.xlabel(column_name)\n",
        "    return fdata"
      ],
      "metadata": {
        "id": "68Vp9MBFvNFd"
      },
      "execution_count": 19,
      "outputs": []
    },
    {
      "cell_type": "markdown",
      "source": [
        "## Model evaluation"
      ],
      "metadata": {
        "id": "gfAnUz9My8oK"
      }
    },
    {
      "cell_type": "markdown",
      "source": [
        "### Logistic Regression"
      ],
      "metadata": {
        "id": "jVRfmq9F2NqM"
      }
    },
    {
      "cell_type": "code",
      "source": [
        "from sklearn.linear_model import LogisticRegression\n",
        "from sklearn.model_selection import train_test_split\n",
        "from sklearn.metrics import classification_report\n",
        "import seaborn as sns\n",
        "import matplotlib.pyplot as plt\n",
        "from sklearn import metrics\n",
        "\n",
        "# Logistic Regression model\n",
        "def model_logREG(fdf, response):\n",
        "  # Pull the correct resposne variable from the dataframe\n",
        "  y = main_df[response]\n",
        "  # Remove all rows with missing observations\n",
        "  X = fdf\n",
        "  X['y'] = y\n",
        "  X = fdf.dropna()\n",
        "  # Split data into test and trian\n",
        "  X_train, X_test, y_train, y_test = train_test_split(X.iloc[:, 0:35], X.iloc[: , -1], test_size=0.20, random_state=0)\n",
        "  # Implement the model\n",
        "  logreg = LogisticRegression()\n",
        "  logreg.fit(X_train, y_train)\n",
        "  y_pred = logreg.predict(X_test)\n",
        "\n",
        "  #use model to predict probability that given y value is 1\n",
        "  y_pred_proba = logreg.predict_proba(X_test)[::,1]\n",
        "\n",
        "  #calculate AUC of model\n",
        "  auc = metrics.roc_auc_score(y_test, y_pred_proba)\n",
        "\n",
        "  #print AUC score\n",
        "  print(auc)\n",
        "\n",
        "  # Calculate F-score\n",
        "  report = classification_report(y_test, y_pred)\n",
        "  print(report)\n",
        "\n",
        "\n",
        "  return y_pred"
      ],
      "metadata": {
        "id": "8NW-mkLdzB43"
      },
      "execution_count": 64,
      "outputs": []
    },
    {
      "cell_type": "markdown",
      "source": [
        "### SVM"
      ],
      "metadata": {
        "id": "JlZ4HqMH2TM0"
      }
    },
    {
      "cell_type": "code",
      "source": [
        "from sklearn import svm\n",
        "from sklearn.model_selection import train_test_split\n",
        "from sklearn.metrics import classification_report\n",
        "\n",
        "# SVM model\n",
        "def model_SVM(fdf, response):\n",
        "  # Pull the correct resposne variable from the dataframe\n",
        "  y = main_df[response]\n",
        "  # Remove all rows with missing observations\n",
        "  X = fdf\n",
        "  X['y'] = y\n",
        "  X = fdf.dropna()\n",
        "  # Split data into test and trian\n",
        "  X_train, X_test, y_train, y_test = train_test_split(X.iloc[:, 0:35], X.iloc[: , -1],test_size=0.20, random_state=0)\n",
        "  # Implement the model\n",
        "  clf = svm.SVC(kernel='linear')\n",
        "  clf.fit(X_train, y_train)\n",
        "  y_pred = clf.predict(X_test)\n",
        "\n",
        "  #use model to predict probability that given y value is 1\n",
        "  y_pred_proba = clf.predict_proba(X_test)[::,1]\n",
        "\n",
        "  #calculate AUC of model\n",
        "  auc = metrics.roc_auc_score(y_test, y_pred_proba)\n",
        "\n",
        "  #print AUC score\n",
        "  print(auc)\n",
        "\n",
        "  # Calculate F-score\n",
        "  report = classification_report(y_test, y_pred)\n",
        "  print(report)\n",
        "\n",
        "  return y_pred"
      ],
      "metadata": {
        "id": "0qJ1-H9m_5Z8"
      },
      "execution_count": 63,
      "outputs": []
    },
    {
      "cell_type": "markdown",
      "source": [
        "### XGBoost "
      ],
      "metadata": {
        "id": "RdtRB2_w29RB"
      }
    },
    {
      "cell_type": "code",
      "source": [
        "import xgboost as xgb\n",
        "\n",
        "def model_XGB(fdf, response):\n",
        "  # Pull the correct resposne variable from the dataframe\n",
        "  y = main_df[response]\n",
        "  # Remove all rows with missing observations\n",
        "  X = fdf\n",
        "  X['y'] = y\n",
        "  X = fdf.dropna()\n",
        "  # Split data into test and trian\n",
        "  X_train, X_test, y_train, y_test = train_test_split(X.iloc[:, 0:35], X.iloc[: , -1], test_size=0.20, random_state=0)\n",
        "  # Implement the model\n",
        "  xgb_rgr = xgb.XGBRegressor()\n",
        "  xgb_rgr.fit(X_train, y_train)\n",
        "  y_pred = xgb_rgr.predict(X_test)\n",
        "\n",
        "  #use model to predict probability that given y value is 1\n",
        "  y_pred_proba = xgb_rgr.predict_proba(X_test)[::,1]\n",
        "\n",
        "  #calculate AUC of model\n",
        "  auc = metrics.roc_auc_score(y_test, y_pred_proba)\n",
        "\n",
        "  #print AUC score\n",
        "  print(auc)\n",
        "\n",
        "  # Calculate F-score\n",
        "  report = classification_report(y_test, y_pred)\n",
        "  print(report)\n",
        "\n",
        "  return y_pred\n"
      ],
      "metadata": {
        "id": "Ow2S3ALZFPDK"
      },
      "execution_count": 62,
      "outputs": []
    },
    {
      "cell_type": "markdown",
      "source": [
        "### Random Forest"
      ],
      "metadata": {
        "id": "I3JKdx8O4p5E"
      }
    },
    {
      "cell_type": "code",
      "source": [
        "from sklearn.ensemble import RandomForestRegressor\n",
        "\n",
        "def model_RF(fdf, response):\n",
        "  # Pull the correct resposne variable from the dataframe\n",
        "  y = main_df[response]\n",
        "  # Remove all rows with missing observations\n",
        "  X = fdf\n",
        "  X['y'] = y\n",
        "  X = fdf.dropna()\n",
        "  # Split data into test and trian\n",
        "  X_train, X_test, y_train, y_test = train_test_split(X.iloc[:, 0:35], X.iloc[: , -1], test_size=0.20, random_state=0)\n",
        "  # Implement the model\n",
        "  regressor = RandomForestRegressor(n_estimators = 100, random_state = 0)\n",
        "  regressor.fit(X_train, y_train)\n",
        "  y_pred = regressor.predict(X_test)\n",
        "\n",
        "  #use model to predict probability that given y value is 1\n",
        "  y_pred_proba = regressor.predict_proba(X_test)[::,1]\n",
        "\n",
        "  #calculate AUC of model\n",
        "  auc = metrics.roc_auc_score(y_test, y_pred_proba)\n",
        "\n",
        "  #print AUC score\n",
        "  print(auc)\n",
        "\n",
        "  # Calculate F-score\n",
        "  report = classification_report(y_test, y_pred)\n",
        "  print(report)\n",
        "\n",
        "  return y_pred"
      ],
      "metadata": {
        "id": "x5u3tH-14vNl"
      },
      "execution_count": 61,
      "outputs": []
    },
    {
      "cell_type": "markdown",
      "source": [
        "# Pipeline"
      ],
      "metadata": {
        "id": "LWqwTTKk7v9v"
      }
    },
    {
      "cell_type": "markdown",
      "source": [
        "## Imputation and Target Variable Selection"
      ],
      "metadata": {
        "id": "9liHjz7i9nf0"
      }
    },
    {
      "cell_type": "code",
      "source": [
        "# Create new imputed datasets\n",
        "featuresKNN = nan2knn(features)\n",
        "featuresMean = nan2mean(features)\n",
        "featuresMedian = nan2median(features)\n",
        "featuresMICE = nan2mice(features)\n",
        "featuresMostFrq = nan2most_frequent(features)\n",
        "\n",
        "# Create list of all imputation strategies\n",
        "imputed_features = [featuresKNN,featuresMean,featuresMedian,featuresMICE,featuresMostFrq]"
      ],
      "metadata": {
        "colab": {
          "base_uri": "https://localhost:8080/"
        },
        "id": "hHk7FWq_70qk",
        "outputId": "fec40546-37fa-447f-e742-419f60833a71"
      },
      "execution_count": 37,
      "outputs": [
        {
          "output_type": "stream",
          "name": "stderr",
          "text": [
            "/usr/local/lib/python3.7/dist-packages/sklearn/impute/_iterative.py:701: ConvergenceWarning: [IterativeImputer] Early stopping criterion not reached.\n",
            "  ConvergenceWarning,\n"
          ]
        }
      ]
    },
    {
      "cell_type": "markdown",
      "source": [
        "## Compare Performance for All Models"
      ],
      "metadata": {
        "id": "n9cE1mHW9sCK"
      }
    },
    {
      "cell_type": "code",
      "source": [
        "def compare_model(arg):\n",
        "  # Select target responses\n",
        "  response = arg\n",
        "\n",
        "  # Apply model to all imputed data frames\n",
        "  for i in range(5):\n",
        "    x = imputed_features[i]\n",
        "    model_logREG(x, response)"
      ],
      "metadata": {
        "id": "RDgdZpZxQLsm"
      },
      "execution_count": 57,
      "outputs": []
    },
    {
      "cell_type": "code",
      "source": [
        "x = model_logREG(featuresMean,'response_2')"
      ],
      "metadata": {
        "colab": {
          "base_uri": "https://localhost:8080/"
        },
        "id": "rOo32EkfX-70",
        "outputId": "e9efa7d2-d2d9-4573-9356-e41ccdb81fd9"
      },
      "execution_count": 76,
      "outputs": [
        {
          "output_type": "stream",
          "name": "stdout",
          "text": [
            "0.543846194531126\n",
            "              precision    recall  f1-score   support\n",
            "\n",
            "         0.0       0.49      0.03      0.06       511\n",
            "         1.0       0.57      0.97      0.72       666\n",
            "\n",
            "    accuracy                           0.56      1177\n",
            "   macro avg       0.53      0.50      0.39      1177\n",
            "weighted avg       0.53      0.56      0.43      1177\n",
            "\n"
          ]
        }
      ]
    }
  ]
}