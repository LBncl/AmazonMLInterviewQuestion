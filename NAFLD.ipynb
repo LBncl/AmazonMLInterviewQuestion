{
  "nbformat": 4,
  "nbformat_minor": 0,
  "metadata": {
    "colab": {
      "name": "NAFLD.ipynb",
      "provenance": [],
      "authorship_tag": "ABX9TyNwRv7Y/MtYaIIorLNvibri",
      "include_colab_link": true
    },
    "kernelspec": {
      "name": "python3",
      "display_name": "Python 3"
    },
    "language_info": {
      "name": "python"
    }
  },
  "cells": [
    {
      "cell_type": "markdown",
      "metadata": {
        "id": "view-in-github",
        "colab_type": "text"
      },
      "source": [
        "<a href=\"https://colab.research.google.com/github/LBncl/AmazonMLInterviewQuestion/blob/main/NAFLD.ipynb\" target=\"_parent\"><img src=\"https://colab.research.google.com/assets/colab-badge.svg\" alt=\"Open In Colab\"/></a>"
      ]
    },
    {
      "cell_type": "markdown",
      "source": [
        "# NAFLD PROJECT"
      ],
      "metadata": {
        "id": "JJ8ZGc1YjFZB"
      }
    },
    {
      "cell_type": "markdown",
      "source": [
        "## Imports"
      ],
      "metadata": {
        "id": "Pm6KDT1PjNKB"
      }
    },
    {
      "cell_type": "code",
      "source": [
        "# Imports\n",
        "import missingno as msno\n",
        "import pandas as pd\n",
        "import matplotlib.pyplot as plt\n",
        "import numpy as np"
      ],
      "metadata": {
        "id": "JxvMeYS9iIA3"
      },
      "execution_count": 1,
      "outputs": []
    },
    {
      "cell_type": "markdown",
      "source": [
        "## Data Cleaning"
      ],
      "metadata": {
        "id": "AjLiQ0hJjR3a"
      }
    },
    {
      "cell_type": "code",
      "execution_count": 53,
      "metadata": {
        "id": "FcqiBWkdhpRx"
      },
      "outputs": [],
      "source": [
        "# Read in data\n",
        "df_raw = pd.read_excel('master_with_nordic_and_multiBM.xlsx')\n",
        "\n",
        "# Check if dataFrame is empty\n",
        "if df_raw.empty:\n",
        "    print('DataFrame is empty!')"
      ]
    },
    {
      "cell_type": "code",
      "source": [
        "# Subset data frame\n",
        "main_df = df_raw.filter(items=['CPH_EV_AGE_CALC', 'TBL.PATIENT.INFO..PI_BL_GENDER', 'CPH_EV_CI_BMI_CALC', \n",
        "                         'TBL.ALL.EVENTS..AE_SF_ALCO_XS', 'insulin_resistance', 'hypertensive', 'waist_to_hip_ratio',\n",
        "                         'idf_metabolic_syndrome', 'eGFR', 'dyslipidaemia', 'fibroscan_stiffness_reliable',\n",
        "                         'TBL.ALL.EVENTS..AE_BR_ALT_iuL',\n",
        "                         'TBL.ALL.EVENTS..AE_BR_AST_iuL', 'TBL.ALL.EVENTS..AE_BR_GGT_iuL',\n",
        "                         'TBL.ALL.EVENTS..AE_BR_FERR_ugL',\n",
        "                         'TBL.ALL.EVENTS..AE_BR_PLT_109L', 'TBL.ALL.EVENTS..AE_BR_CREAT_umolL_CALC',\n",
        "                         'TBL.ALL.EVENTS..AE_BR_STG_mmolL_CALC',\n",
        "                         'TBL.ALL.EVENTS..AE_BR_ALBU_gL_CALC', 'TBL.ALL.EVENTS..AE_BR_BILI_umolL_CALC',\n",
        "                         'TBL.ALL.EVENTS..AE_BR_IGA',\n",
        "                         'TBL.ALL.EVENTS..AE_CD_OSA', 'LIT_NB_CK18_M30', 'LIT_NB_CK18_M65', 'LIT_NB_PRO_C3', 'LIT_NB_PRO_C6',\n",
        "                          'LIT_NB_ELF', 'FIB4', 'NFS', 'APRI', 'ADAPT', 'FIBC3', 'ABC3D', 'BARD', 'AST_ALT_Ratio', 'response_7'])"
      ],
      "metadata": {
        "id": "1s4uX2A1i5_V"
      },
      "execution_count": 90,
      "outputs": []
    },
    {
      "cell_type": "code",
      "source": [
        "main_df.describe()"
      ],
      "metadata": {
        "id": "XAdTEnHfK_oa"
      },
      "execution_count": null,
      "outputs": []
    },
    {
      "cell_type": "code",
      "source": [
        "main_df.dtypes"
      ],
      "metadata": {
        "id": "npDox8CZF7ky"
      },
      "execution_count": null,
      "outputs": []
    },
    {
      "cell_type": "code",
      "source": [
        "msno.bar(main_df)"
      ],
      "metadata": {
        "id": "xfNW-jzTjEQb"
      },
      "execution_count": null,
      "outputs": []
    },
    {
      "cell_type": "code",
      "source": [
        "# Convert required variables to boolean and normlaise the remaining variables\n",
        "features_raw = main_df.iloc[:, 0:35]\n",
        "\n",
        "# Loop to check for boolean columns\n",
        "for column in features_raw:\n",
        "  if features_raw[column].max() == 1 and features_raw[column].min() == 0:\n",
        "    features_raw[column] = features_raw[column].astype(bool)"
      ],
      "metadata": {
        "id": "QCXqyL6Rj0Cq"
      },
      "execution_count": 91,
      "outputs": []
    },
    {
      "cell_type": "code",
      "source": [
        "features_raw.dtypes"
      ],
      "metadata": {
        "id": "gLPRAVzQGHnd"
      },
      "execution_count": null,
      "outputs": []
    },
    {
      "cell_type": "code",
      "source": [
        "# Filter to only select basline event types\n",
        "features_raw['CPH_EV_EVENT_TYPE'] = df_raw['CPH_EV_EVENT_TYPE']\n",
        "is_Baseline = features_raw['CPH_EV_EVENT_TYPE'] == 'Baseline'\n",
        "features_baseline = features_raw[is_Baseline]\n",
        "features_baseline = features_baseline.iloc[: , :-1]\n",
        "features_baseline = features_baseline.reset_index()\n",
        "features_baseline = features_baseline.iloc[: , 1:]"
      ],
      "metadata": {
        "id": "nA-yM30qLk1F"
      },
      "execution_count": 92,
      "outputs": []
    },
    {
      "cell_type": "code",
      "source": [
        "features_baseline"
      ],
      "metadata": {
        "id": "niRrJDMI0QKO"
      },
      "execution_count": null,
      "outputs": []
    },
    {
      "cell_type": "code",
      "source": [
        "# remove outliers\n",
        "import numpy as np\n",
        "from scipy import stats\n",
        "cols_normalise = features_baseline.select_dtypes(include=[np.float64])\n",
        "\n",
        "z_scores = stats.zscore(features_baseline[cols_normalise.columns],  nan_policy = 'omit')\n",
        "abs_z_scores = np.abs(z_scores)\n",
        "filtered_entries = (abs_z_scores < 3).all(axis=1)\n",
        "features_filtered = features_baseline[cols_normalise.columns]"
      ],
      "metadata": {
        "id": "qsvt9LPO-G7u"
      },
      "execution_count": null,
      "outputs": []
    },
    {
      "cell_type": "code",
      "source": [
        "from sklearn import preprocessing\n",
        "from sklearn.preprocessing import StandardScaler\n",
        "\n",
        "cols_normalise = features_baseline.select_dtypes(include=[np.float64])\n",
        "\n",
        "# Normalise Data\n",
        "scale = StandardScaler()\n",
        "features_baseline[cols_normalise.columns] = scale.fit_transform(cols_normalise)"
      ],
      "metadata": {
        "id": "8MZJ7whZ0FFh"
      },
      "execution_count": 30,
      "outputs": []
    },
    {
      "cell_type": "code",
      "source": [
        "features_baseline[cols_normalise.columns]"
      ],
      "metadata": {
        "id": "om2CqQCUDW9s"
      },
      "execution_count": null,
      "outputs": []
    },
    {
      "cell_type": "code",
      "source": [
        "from sklearn import preprocessing\n",
        "names = list(features_baseline.columns)\n",
        "\n",
        "x = features_baseline.values #returns a numpy array\n",
        "min_max_scaler = preprocessing.MinMaxScaler()\n",
        "features_baseline_scaled = min_max_scaler.fit_transform(x)\n",
        "features_baseline_scaled = pd.DataFrame(features_baseline_scaled, columns=names)\n",
        "features_baseline_scaled"
      ],
      "metadata": {
        "colab": {
          "base_uri": "https://localhost:8080/",
          "height": 488
        },
        "id": "Ke96SY2hRdwz",
        "outputId": "7a03ff8c-e7a1-47d8-a0c5-1e0e4a926eb5"
      },
      "execution_count": 93,
      "outputs": [
        {
          "output_type": "execute_result",
          "data": {
            "text/plain": [
              "      CPH_EV_AGE_CALC  TBL.PATIENT.INFO..PI_BL_GENDER  CPH_EV_CI_BMI_CALC  \\\n",
              "0            0.483871                             1.0            0.688333   \n",
              "1            0.483871                             0.0            0.165333   \n",
              "2            0.451613                             1.0            0.490333   \n",
              "3            0.451613                             0.0            0.681333   \n",
              "4            0.467742                             1.0            0.458333   \n",
              "...               ...                             ...                 ...   \n",
              "9283         0.661290                             1.0            0.386333   \n",
              "9284         0.354839                             1.0            0.393333   \n",
              "9285         0.677419                             1.0            0.356667   \n",
              "9286         0.677419                             1.0            0.443667   \n",
              "9287         0.435484                             0.0            0.740000   \n",
              "\n",
              "      TBL.ALL.EVENTS..AE_SF_ALCO_XS  insulin_resistance  hypertensive  \\\n",
              "0                               0.0                 1.0           0.0   \n",
              "1                               0.0                 1.0           1.0   \n",
              "2                               1.0                 0.0           0.0   \n",
              "3                               1.0                 0.0           0.0   \n",
              "4                               1.0                 0.0           1.0   \n",
              "...                             ...                 ...           ...   \n",
              "9283                            0.0                 1.0           1.0   \n",
              "9284                            0.0                 0.0           0.0   \n",
              "9285                            0.0                 0.0           0.0   \n",
              "9286                            0.0                 1.0           1.0   \n",
              "9287                            0.0                 1.0           1.0   \n",
              "\n",
              "      waist_to_hip_ratio  idf_metabolic_syndrome      eGFR  dyslipidaemia  \\\n",
              "0                    NaN                     0.0  0.372273            0.0   \n",
              "1               0.228253                     0.0       NaN            1.0   \n",
              "2                    NaN                     0.0  0.206149            0.0   \n",
              "3                    NaN                     1.0  0.270558            1.0   \n",
              "4                    NaN                     1.0  0.266043            1.0   \n",
              "...                  ...                     ...       ...            ...   \n",
              "9283                 NaN                     0.0       NaN            1.0   \n",
              "9284            0.229013                     0.0       NaN            1.0   \n",
              "9285                 NaN                     1.0  0.600826            1.0   \n",
              "9286                 NaN                     1.0       NaN            1.0   \n",
              "9287            0.347528                     1.0       NaN            1.0   \n",
              "\n",
              "      ...  LIT_NB_PRO_C6  LIT_NB_ELF      FIB4       NFS      APRI  ADAPT  \\\n",
              "0     ...            NaN         NaN  0.046102  0.712414  0.020094    NaN   \n",
              "1     ...            NaN         NaN  0.299008  0.445626  0.193066    NaN   \n",
              "2     ...            NaN         NaN  0.049002  0.393620  0.012570    NaN   \n",
              "3     ...            NaN         NaN  0.063383  0.491051  0.018272    NaN   \n",
              "4     ...            NaN         NaN  0.035208  0.383990  0.012686    NaN   \n",
              "...   ...            ...         ...       ...       ...       ...    ...   \n",
              "9283  ...            NaN         NaN       NaN  0.631983       NaN    NaN   \n",
              "9284  ...            NaN         NaN       NaN  0.303982       NaN    NaN   \n",
              "9285  ...            NaN         NaN  0.103404  0.419137  0.046431    NaN   \n",
              "9286  ...            NaN         NaN       NaN  0.667922       NaN    NaN   \n",
              "9287  ...            NaN         NaN       NaN  0.718691       NaN    NaN   \n",
              "\n",
              "      FIBC3     ABC3D  BARD  AST_ALT_Ratio  \n",
              "0       NaN  0.500000  1.00       0.155070  \n",
              "1       NaN  0.500000  0.25       0.094718  \n",
              "2       NaN  0.166667  0.25       0.115076  \n",
              "3       NaN  0.166667  0.25       0.112998  \n",
              "4       NaN  0.166667  0.75       0.206343  \n",
              "...     ...       ...   ...            ...  \n",
              "9283    NaN  0.666667   NaN            NaN  \n",
              "9284    NaN       NaN   NaN            NaN  \n",
              "9285    NaN  0.333333  0.75       0.184740  \n",
              "9286    NaN       NaN   NaN            NaN  \n",
              "9287    NaN       NaN   NaN            NaN  \n",
              "\n",
              "[9288 rows x 35 columns]"
            ],
            "text/html": [
              "\n",
              "  <div id=\"df-8a41824a-e7e7-4f5c-8ffa-628761bc8bfe\">\n",
              "    <div class=\"colab-df-container\">\n",
              "      <div>\n",
              "<style scoped>\n",
              "    .dataframe tbody tr th:only-of-type {\n",
              "        vertical-align: middle;\n",
              "    }\n",
              "\n",
              "    .dataframe tbody tr th {\n",
              "        vertical-align: top;\n",
              "    }\n",
              "\n",
              "    .dataframe thead th {\n",
              "        text-align: right;\n",
              "    }\n",
              "</style>\n",
              "<table border=\"1\" class=\"dataframe\">\n",
              "  <thead>\n",
              "    <tr style=\"text-align: right;\">\n",
              "      <th></th>\n",
              "      <th>CPH_EV_AGE_CALC</th>\n",
              "      <th>TBL.PATIENT.INFO..PI_BL_GENDER</th>\n",
              "      <th>CPH_EV_CI_BMI_CALC</th>\n",
              "      <th>TBL.ALL.EVENTS..AE_SF_ALCO_XS</th>\n",
              "      <th>insulin_resistance</th>\n",
              "      <th>hypertensive</th>\n",
              "      <th>waist_to_hip_ratio</th>\n",
              "      <th>idf_metabolic_syndrome</th>\n",
              "      <th>eGFR</th>\n",
              "      <th>dyslipidaemia</th>\n",
              "      <th>...</th>\n",
              "      <th>LIT_NB_PRO_C6</th>\n",
              "      <th>LIT_NB_ELF</th>\n",
              "      <th>FIB4</th>\n",
              "      <th>NFS</th>\n",
              "      <th>APRI</th>\n",
              "      <th>ADAPT</th>\n",
              "      <th>FIBC3</th>\n",
              "      <th>ABC3D</th>\n",
              "      <th>BARD</th>\n",
              "      <th>AST_ALT_Ratio</th>\n",
              "    </tr>\n",
              "  </thead>\n",
              "  <tbody>\n",
              "    <tr>\n",
              "      <th>0</th>\n",
              "      <td>0.483871</td>\n",
              "      <td>1.0</td>\n",
              "      <td>0.688333</td>\n",
              "      <td>0.0</td>\n",
              "      <td>1.0</td>\n",
              "      <td>0.0</td>\n",
              "      <td>NaN</td>\n",
              "      <td>0.0</td>\n",
              "      <td>0.372273</td>\n",
              "      <td>0.0</td>\n",
              "      <td>...</td>\n",
              "      <td>NaN</td>\n",
              "      <td>NaN</td>\n",
              "      <td>0.046102</td>\n",
              "      <td>0.712414</td>\n",
              "      <td>0.020094</td>\n",
              "      <td>NaN</td>\n",
              "      <td>NaN</td>\n",
              "      <td>0.500000</td>\n",
              "      <td>1.00</td>\n",
              "      <td>0.155070</td>\n",
              "    </tr>\n",
              "    <tr>\n",
              "      <th>1</th>\n",
              "      <td>0.483871</td>\n",
              "      <td>0.0</td>\n",
              "      <td>0.165333</td>\n",
              "      <td>0.0</td>\n",
              "      <td>1.0</td>\n",
              "      <td>1.0</td>\n",
              "      <td>0.228253</td>\n",
              "      <td>0.0</td>\n",
              "      <td>NaN</td>\n",
              "      <td>1.0</td>\n",
              "      <td>...</td>\n",
              "      <td>NaN</td>\n",
              "      <td>NaN</td>\n",
              "      <td>0.299008</td>\n",
              "      <td>0.445626</td>\n",
              "      <td>0.193066</td>\n",
              "      <td>NaN</td>\n",
              "      <td>NaN</td>\n",
              "      <td>0.500000</td>\n",
              "      <td>0.25</td>\n",
              "      <td>0.094718</td>\n",
              "    </tr>\n",
              "    <tr>\n",
              "      <th>2</th>\n",
              "      <td>0.451613</td>\n",
              "      <td>1.0</td>\n",
              "      <td>0.490333</td>\n",
              "      <td>1.0</td>\n",
              "      <td>0.0</td>\n",
              "      <td>0.0</td>\n",
              "      <td>NaN</td>\n",
              "      <td>0.0</td>\n",
              "      <td>0.206149</td>\n",
              "      <td>0.0</td>\n",
              "      <td>...</td>\n",
              "      <td>NaN</td>\n",
              "      <td>NaN</td>\n",
              "      <td>0.049002</td>\n",
              "      <td>0.393620</td>\n",
              "      <td>0.012570</td>\n",
              "      <td>NaN</td>\n",
              "      <td>NaN</td>\n",
              "      <td>0.166667</td>\n",
              "      <td>0.25</td>\n",
              "      <td>0.115076</td>\n",
              "    </tr>\n",
              "    <tr>\n",
              "      <th>3</th>\n",
              "      <td>0.451613</td>\n",
              "      <td>0.0</td>\n",
              "      <td>0.681333</td>\n",
              "      <td>1.0</td>\n",
              "      <td>0.0</td>\n",
              "      <td>0.0</td>\n",
              "      <td>NaN</td>\n",
              "      <td>1.0</td>\n",
              "      <td>0.270558</td>\n",
              "      <td>1.0</td>\n",
              "      <td>...</td>\n",
              "      <td>NaN</td>\n",
              "      <td>NaN</td>\n",
              "      <td>0.063383</td>\n",
              "      <td>0.491051</td>\n",
              "      <td>0.018272</td>\n",
              "      <td>NaN</td>\n",
              "      <td>NaN</td>\n",
              "      <td>0.166667</td>\n",
              "      <td>0.25</td>\n",
              "      <td>0.112998</td>\n",
              "    </tr>\n",
              "    <tr>\n",
              "      <th>4</th>\n",
              "      <td>0.467742</td>\n",
              "      <td>1.0</td>\n",
              "      <td>0.458333</td>\n",
              "      <td>1.0</td>\n",
              "      <td>0.0</td>\n",
              "      <td>1.0</td>\n",
              "      <td>NaN</td>\n",
              "      <td>1.0</td>\n",
              "      <td>0.266043</td>\n",
              "      <td>1.0</td>\n",
              "      <td>...</td>\n",
              "      <td>NaN</td>\n",
              "      <td>NaN</td>\n",
              "      <td>0.035208</td>\n",
              "      <td>0.383990</td>\n",
              "      <td>0.012686</td>\n",
              "      <td>NaN</td>\n",
              "      <td>NaN</td>\n",
              "      <td>0.166667</td>\n",
              "      <td>0.75</td>\n",
              "      <td>0.206343</td>\n",
              "    </tr>\n",
              "    <tr>\n",
              "      <th>...</th>\n",
              "      <td>...</td>\n",
              "      <td>...</td>\n",
              "      <td>...</td>\n",
              "      <td>...</td>\n",
              "      <td>...</td>\n",
              "      <td>...</td>\n",
              "      <td>...</td>\n",
              "      <td>...</td>\n",
              "      <td>...</td>\n",
              "      <td>...</td>\n",
              "      <td>...</td>\n",
              "      <td>...</td>\n",
              "      <td>...</td>\n",
              "      <td>...</td>\n",
              "      <td>...</td>\n",
              "      <td>...</td>\n",
              "      <td>...</td>\n",
              "      <td>...</td>\n",
              "      <td>...</td>\n",
              "      <td>...</td>\n",
              "      <td>...</td>\n",
              "    </tr>\n",
              "    <tr>\n",
              "      <th>9283</th>\n",
              "      <td>0.661290</td>\n",
              "      <td>1.0</td>\n",
              "      <td>0.386333</td>\n",
              "      <td>0.0</td>\n",
              "      <td>1.0</td>\n",
              "      <td>1.0</td>\n",
              "      <td>NaN</td>\n",
              "      <td>0.0</td>\n",
              "      <td>NaN</td>\n",
              "      <td>1.0</td>\n",
              "      <td>...</td>\n",
              "      <td>NaN</td>\n",
              "      <td>NaN</td>\n",
              "      <td>NaN</td>\n",
              "      <td>0.631983</td>\n",
              "      <td>NaN</td>\n",
              "      <td>NaN</td>\n",
              "      <td>NaN</td>\n",
              "      <td>0.666667</td>\n",
              "      <td>NaN</td>\n",
              "      <td>NaN</td>\n",
              "    </tr>\n",
              "    <tr>\n",
              "      <th>9284</th>\n",
              "      <td>0.354839</td>\n",
              "      <td>1.0</td>\n",
              "      <td>0.393333</td>\n",
              "      <td>0.0</td>\n",
              "      <td>0.0</td>\n",
              "      <td>0.0</td>\n",
              "      <td>0.229013</td>\n",
              "      <td>0.0</td>\n",
              "      <td>NaN</td>\n",
              "      <td>1.0</td>\n",
              "      <td>...</td>\n",
              "      <td>NaN</td>\n",
              "      <td>NaN</td>\n",
              "      <td>NaN</td>\n",
              "      <td>0.303982</td>\n",
              "      <td>NaN</td>\n",
              "      <td>NaN</td>\n",
              "      <td>NaN</td>\n",
              "      <td>NaN</td>\n",
              "      <td>NaN</td>\n",
              "      <td>NaN</td>\n",
              "    </tr>\n",
              "    <tr>\n",
              "      <th>9285</th>\n",
              "      <td>0.677419</td>\n",
              "      <td>1.0</td>\n",
              "      <td>0.356667</td>\n",
              "      <td>0.0</td>\n",
              "      <td>0.0</td>\n",
              "      <td>0.0</td>\n",
              "      <td>NaN</td>\n",
              "      <td>1.0</td>\n",
              "      <td>0.600826</td>\n",
              "      <td>1.0</td>\n",
              "      <td>...</td>\n",
              "      <td>NaN</td>\n",
              "      <td>NaN</td>\n",
              "      <td>0.103404</td>\n",
              "      <td>0.419137</td>\n",
              "      <td>0.046431</td>\n",
              "      <td>NaN</td>\n",
              "      <td>NaN</td>\n",
              "      <td>0.333333</td>\n",
              "      <td>0.75</td>\n",
              "      <td>0.184740</td>\n",
              "    </tr>\n",
              "    <tr>\n",
              "      <th>9286</th>\n",
              "      <td>0.677419</td>\n",
              "      <td>1.0</td>\n",
              "      <td>0.443667</td>\n",
              "      <td>0.0</td>\n",
              "      <td>1.0</td>\n",
              "      <td>1.0</td>\n",
              "      <td>NaN</td>\n",
              "      <td>1.0</td>\n",
              "      <td>NaN</td>\n",
              "      <td>1.0</td>\n",
              "      <td>...</td>\n",
              "      <td>NaN</td>\n",
              "      <td>NaN</td>\n",
              "      <td>NaN</td>\n",
              "      <td>0.667922</td>\n",
              "      <td>NaN</td>\n",
              "      <td>NaN</td>\n",
              "      <td>NaN</td>\n",
              "      <td>NaN</td>\n",
              "      <td>NaN</td>\n",
              "      <td>NaN</td>\n",
              "    </tr>\n",
              "    <tr>\n",
              "      <th>9287</th>\n",
              "      <td>0.435484</td>\n",
              "      <td>0.0</td>\n",
              "      <td>0.740000</td>\n",
              "      <td>0.0</td>\n",
              "      <td>1.0</td>\n",
              "      <td>1.0</td>\n",
              "      <td>0.347528</td>\n",
              "      <td>1.0</td>\n",
              "      <td>NaN</td>\n",
              "      <td>1.0</td>\n",
              "      <td>...</td>\n",
              "      <td>NaN</td>\n",
              "      <td>NaN</td>\n",
              "      <td>NaN</td>\n",
              "      <td>0.718691</td>\n",
              "      <td>NaN</td>\n",
              "      <td>NaN</td>\n",
              "      <td>NaN</td>\n",
              "      <td>NaN</td>\n",
              "      <td>NaN</td>\n",
              "      <td>NaN</td>\n",
              "    </tr>\n",
              "  </tbody>\n",
              "</table>\n",
              "<p>9288 rows × 35 columns</p>\n",
              "</div>\n",
              "      <button class=\"colab-df-convert\" onclick=\"convertToInteractive('df-8a41824a-e7e7-4f5c-8ffa-628761bc8bfe')\"\n",
              "              title=\"Convert this dataframe to an interactive table.\"\n",
              "              style=\"display:none;\">\n",
              "        \n",
              "  <svg xmlns=\"http://www.w3.org/2000/svg\" height=\"24px\"viewBox=\"0 0 24 24\"\n",
              "       width=\"24px\">\n",
              "    <path d=\"M0 0h24v24H0V0z\" fill=\"none\"/>\n",
              "    <path d=\"M18.56 5.44l.94 2.06.94-2.06 2.06-.94-2.06-.94-.94-2.06-.94 2.06-2.06.94zm-11 1L8.5 8.5l.94-2.06 2.06-.94-2.06-.94L8.5 2.5l-.94 2.06-2.06.94zm10 10l.94 2.06.94-2.06 2.06-.94-2.06-.94-.94-2.06-.94 2.06-2.06.94z\"/><path d=\"M17.41 7.96l-1.37-1.37c-.4-.4-.92-.59-1.43-.59-.52 0-1.04.2-1.43.59L10.3 9.45l-7.72 7.72c-.78.78-.78 2.05 0 2.83L4 21.41c.39.39.9.59 1.41.59.51 0 1.02-.2 1.41-.59l7.78-7.78 2.81-2.81c.8-.78.8-2.07 0-2.86zM5.41 20L4 18.59l7.72-7.72 1.47 1.35L5.41 20z\"/>\n",
              "  </svg>\n",
              "      </button>\n",
              "      \n",
              "  <style>\n",
              "    .colab-df-container {\n",
              "      display:flex;\n",
              "      flex-wrap:wrap;\n",
              "      gap: 12px;\n",
              "    }\n",
              "\n",
              "    .colab-df-convert {\n",
              "      background-color: #E8F0FE;\n",
              "      border: none;\n",
              "      border-radius: 50%;\n",
              "      cursor: pointer;\n",
              "      display: none;\n",
              "      fill: #1967D2;\n",
              "      height: 32px;\n",
              "      padding: 0 0 0 0;\n",
              "      width: 32px;\n",
              "    }\n",
              "\n",
              "    .colab-df-convert:hover {\n",
              "      background-color: #E2EBFA;\n",
              "      box-shadow: 0px 1px 2px rgba(60, 64, 67, 0.3), 0px 1px 3px 1px rgba(60, 64, 67, 0.15);\n",
              "      fill: #174EA6;\n",
              "    }\n",
              "\n",
              "    [theme=dark] .colab-df-convert {\n",
              "      background-color: #3B4455;\n",
              "      fill: #D2E3FC;\n",
              "    }\n",
              "\n",
              "    [theme=dark] .colab-df-convert:hover {\n",
              "      background-color: #434B5C;\n",
              "      box-shadow: 0px 1px 3px 1px rgba(0, 0, 0, 0.15);\n",
              "      filter: drop-shadow(0px 1px 2px rgba(0, 0, 0, 0.3));\n",
              "      fill: #FFFFFF;\n",
              "    }\n",
              "  </style>\n",
              "\n",
              "      <script>\n",
              "        const buttonEl =\n",
              "          document.querySelector('#df-8a41824a-e7e7-4f5c-8ffa-628761bc8bfe button.colab-df-convert');\n",
              "        buttonEl.style.display =\n",
              "          google.colab.kernel.accessAllowed ? 'block' : 'none';\n",
              "\n",
              "        async function convertToInteractive(key) {\n",
              "          const element = document.querySelector('#df-8a41824a-e7e7-4f5c-8ffa-628761bc8bfe');\n",
              "          const dataTable =\n",
              "            await google.colab.kernel.invokeFunction('convertToInteractive',\n",
              "                                                     [key], {});\n",
              "          if (!dataTable) return;\n",
              "\n",
              "          const docLinkHtml = 'Like what you see? Visit the ' +\n",
              "            '<a target=\"_blank\" href=https://colab.research.google.com/notebooks/data_table.ipynb>data table notebook</a>'\n",
              "            + ' to learn more about interactive tables.';\n",
              "          element.innerHTML = '';\n",
              "          dataTable['output_type'] = 'display_data';\n",
              "          await google.colab.output.renderOutput(dataTable, element);\n",
              "          const docLink = document.createElement('div');\n",
              "          docLink.innerHTML = docLinkHtml;\n",
              "          element.appendChild(docLink);\n",
              "        }\n",
              "      </script>\n",
              "    </div>\n",
              "  </div>\n",
              "  "
            ]
          },
          "metadata": {},
          "execution_count": 93
        }
      ]
    },
    {
      "cell_type": "markdown",
      "source": [
        "## Data Imputation Strategies"
      ],
      "metadata": {
        "id": "nhKAAVJErIz-"
      }
    },
    {
      "cell_type": "code",
      "source": [
        "# Imports for imputation functions\n",
        "from sklearn.impute import SimpleImputer\n",
        "from sklearn.experimental import enable_iterative_imputer\n",
        "from sklearn.impute import IterativeImputer\n",
        "from sklearn.linear_model import LinearRegression\n",
        "from sklearn.ensemble import RandomForestRegressor\n",
        "from sklearn.impute import KNNImputer\n",
        "from sklearn.neighbors import KNeighborsRegressor\n",
        "from sklearn.linear_model import LogisticRegression"
      ],
      "metadata": {
        "id": "b9QfYn0OrOsJ"
      },
      "execution_count": 34,
      "outputs": []
    },
    {
      "cell_type": "code",
      "source": [
        "# Single imputation with mean to replace not a number (NaNs)\n",
        "def nan2mean(fdf):\n",
        "    cols = list(fdf.columns)\n",
        "    imp = SimpleImputer(missing_values=np.nan, strategy='mean')\n",
        "    fdf=imp.fit_transform(fdf)\n",
        "    fdf = pd.DataFrame(fdf, columns=cols)\n",
        "    return fdf"
      ],
      "metadata": {
        "id": "XdhqTVx5rXQ-"
      },
      "execution_count": 35,
      "outputs": []
    },
    {
      "cell_type": "code",
      "source": [
        "# Single imputation with median to replace not a number (NaNs)\n",
        "def nan2median(fdf):\n",
        "    cols = list(fdf.columns)\n",
        "    imp = SimpleImputer(missing_values=np.nan, strategy='median')\n",
        "    fdf=imp.fit_transform(fdf)\n",
        "    fdf = pd.DataFrame(fdf, columns=cols)\n",
        "    return fdf"
      ],
      "metadata": {
        "id": "k-PByFl_rexy"
      },
      "execution_count": 36,
      "outputs": []
    },
    {
      "cell_type": "code",
      "source": [
        "# Single imputation with most_frequent to replace not a number (NaNs)\n",
        "def nan2most_frequent(fdf):\n",
        "    cols = list(fdf.columns)\n",
        "    imp = SimpleImputer(missing_values=np.nan, strategy='most_frequent')\n",
        "    fdf=imp.fit_transform(fdf)\n",
        "    fdf = pd.DataFrame(fdf, columns=cols)\n",
        "    return fdf"
      ],
      "metadata": {
        "id": "a6mf5HU_rhvF"
      },
      "execution_count": 37,
      "outputs": []
    },
    {
      "cell_type": "code",
      "source": [
        "# Multiple Imputation by chained equation linear regression\n",
        "def nan2mice(fdf):\n",
        "    cols = list(fdf.columns)\n",
        "    lr = LinearRegression()\n",
        "    imp = IterativeImputer(estimator=lr,missing_values=np.nan, max_iter=50, imputation_order='roman',random_state=0)\n",
        "    fdf=imp.fit_transform(fdf)\n",
        "    fdf = pd.DataFrame(fdf, columns=cols)\n",
        "    return fdf"
      ],
      "metadata": {
        "id": "vy61XAe0r76R"
      },
      "execution_count": 38,
      "outputs": []
    },
    {
      "cell_type": "code",
      "source": [
        "# Imputation by K neasrest neighbours\n",
        "def nan2knn(fdf):\n",
        "    cols = list(fdf.columns)\n",
        "    imp = KNNImputer(n_neighbors=2, weights=\"distance\")\n",
        "    fdf=imp.fit_transform(fdf)\n",
        "    fdf = pd.DataFrame(fdf, columns=cols)\n",
        "    return fdf"
      ],
      "metadata": {
        "id": "3OCLAwGRuUyu"
      },
      "execution_count": 39,
      "outputs": []
    },
    {
      "cell_type": "markdown",
      "source": [
        "## Model evaluation"
      ],
      "metadata": {
        "id": "gfAnUz9My8oK"
      }
    },
    {
      "cell_type": "code",
      "source": [
        "# Create new imputed datasets\n",
        "featuresKNN = nan2knn(features_baseline_scaled)\n",
        "featuresMean = nan2mean(features_baseline_scaled)\n",
        "featuresMedian = nan2median(features_baseline_scaled)\n",
        "featuresMICE = nan2mice(features_baseline_scaled)\n",
        "featuresMostFrq = nan2most_frequent(features_baseline_scaled)\n",
        "featuresMostFrq = featuresMostFrq.apply(pd.to_numeric)\n",
        "\n",
        "# Create list of all imputation strategies\n",
        "imputed_features = [featuresKNN,featuresMean,featuresMedian,featuresMICE,featuresMostFrq]\n",
        "imputed_features_names = ['featuresKNN','featuresMean','featuresMedian','featuresMICE','featuresMostFrq']"
      ],
      "metadata": {
        "id": "d-pBTzt7UmCD"
      },
      "execution_count": null,
      "outputs": []
    },
    {
      "cell_type": "code",
      "source": [
        "column_name = \"CPH_EV_AGE_CALC\"\n",
        "\n",
        "d = {'raw': features_baseline[column_name], \n",
        "     'KNN Imputation': featuresKNN[column_name],\n",
        "     'Mean Imputation': featuresMean[column_name],\n",
        "     'Median Imputation': featuresMedian[column_name],\n",
        "     'MICE Imputation': featuresMICE[column_name],\n",
        "     'MostFrq Imputation': featuresMostFrq[column_name]}\n",
        "fdata = pd.DataFrame(data=d)\n",
        "\n",
        "# calling density() to make multiple density plot \n",
        "fig, axes = plt.subplots(1, 6)\n",
        "fig.suptitle('Raw vs Imputed Desity Plots')\n",
        "fdata['raw'].plot.density(ax=axes[0], figsize = (15, 7))\n",
        "fdata['Mean Imputation'].plot.density(ax=axes[1], figsize = (15, 7), color='red')\n",
        "fdata['Median Imputation'].plot.density(ax=axes[2], figsize = (15, 7), color='red')\n",
        "fdata['MICE Imputation'].plot.density(ax=axes[3], figsize = (15, 7), color='red')\n",
        "fdata['MostFrq Imputation'].plot.density(ax=axes[4], figsize = (15, 7), color='red')\n",
        "fdata['KNN Imputation'].plot.density(ax=axes[5], figsize = (15, 7), color='red')\n",
        "\n",
        "axes[0].set_title('Raw')\n",
        "axes[1].set_title('Mean Imputed')\n",
        "axes[2].set_title('Median Imputed')\n",
        "axes[3].set_title('MICE Imputed')\n",
        "axes[4].set_title('MostFrq Imputed')\n",
        "axes[5].set_title('KNN Imputed')\n",
        "\n",
        "axes[0].set_xlabel(column_name)\n",
        "axes[1].set_xlabel(column_name)\n",
        "axes[2].set_xlabel(column_name)\n",
        "axes[3].set_xlabel(column_name)\n",
        "axes[4].set_xlabel(column_name)\n",
        "axes[5].set_xlabel(column_name)"
      ],
      "metadata": {
        "id": "aJuBfUmdbsf3"
      },
      "execution_count": null,
      "outputs": []
    },
    {
      "cell_type": "code",
      "source": [
        "# Pull response from data frame with only baseline observations\n",
        "y = main_df[\"response_7\"]\n",
        "response = pd.DataFrame({'y':y, 'Baseline':df_raw['CPH_EV_EVENT_TYPE']})\n",
        "is_Baseline = response['Baseline'] == 'Baseline'\n",
        "response = response[is_Baseline]\n",
        "response = response['y']\n",
        "\n",
        "# Add response variable to all imputed datasets and remove observations with NaN responses\n",
        "for i in range(len(imputed_features)):\n",
        "  df = imputed_features[i]\n",
        "  df['response'] = response\n",
        "  df = df.dropna(inplace=True)"
      ],
      "metadata": {
        "id": "ffeKd5yvPvaC"
      },
      "execution_count": 95,
      "outputs": []
    },
    {
      "cell_type": "markdown",
      "source": [
        "# Feature Selection"
      ],
      "metadata": {
        "id": "spD21lRw-xjx"
      }
    },
    {
      "cell_type": "code",
      "source": [
        "pip install featurewiz"
      ],
      "metadata": {
        "id": "2_G7hct61W_T"
      },
      "execution_count": null,
      "outputs": []
    },
    {
      "cell_type": "code",
      "source": [
        "# automatic feature selection by using featurewiz package\n",
        "from featurewiz import featurewiz\n",
        "target = 'response'\n",
        "\n",
        "features_selected, train = featurewiz(featuresKNN, target, corr_limit=0.7, verbose=2, sep=\",\", header=0,test_data=\"\", feature_engg=\"\", category_encoders=\"\")"
      ],
      "metadata": {
        "id": "2QLRgCJbUBhd"
      },
      "execution_count": null,
      "outputs": []
    },
    {
      "cell_type": "code",
      "source": [
        "from sklearn.model_selection import train_test_split\n",
        "\n",
        "# function to generate test/train split\n",
        "def train_test (fdf):\n",
        "  # Split data into test and trian\n",
        "  X_train, X_test, y_train, y_test = train_test_split(fdf.iloc[:, 0:35], fdf.iloc[: , -1], test_size=0.30, random_state=0)\n",
        "  return X_train, X_test, y_train, y_test"
      ],
      "metadata": {
        "id": "Kq-Sr1bTUoc2"
      },
      "execution_count": null,
      "outputs": []
    },
    {
      "cell_type": "code",
      "source": [
        "# Filter all data frames based upon best features\n",
        "featuresKNN = featuresKNN[features_selected]\n",
        "featuresMean = featuresMean[features_selected]\n",
        "featuresMedian = featuresMedian[features_selected]\n",
        "featuresMICE = featuresMICE[features_selected]\n",
        "featuresMostFrq = featuresMostFrq[features_selected]\n",
        "\n",
        "imputed_features = [featuresKNN,featuresMean,featuresMedian,featuresMICE,featuresMostFrq]\n",
        "\n",
        "# Add response variable to all imputed datasets\n",
        "for i in range(len(imputed_features)):\n",
        "  df = imputed_features[i]\n",
        "  df['response'] = response"
      ],
      "metadata": {
        "id": "lAFIE8xCAsj3"
      },
      "execution_count": null,
      "outputs": []
    },
    {
      "cell_type": "code",
      "source": [
        "featuresKNN"
      ],
      "metadata": {
        "id": "ea5cP4NQOlKr"
      },
      "execution_count": null,
      "outputs": []
    },
    {
      "cell_type": "markdown",
      "source": [
        "### Logistic Regression"
      ],
      "metadata": {
        "id": "jVRfmq9F2NqM"
      }
    },
    {
      "cell_type": "code",
      "source": [
        "from sklearn.linear_model import LogisticRegression\n",
        "from sklearn.metrics import classification_report\n",
        "import seaborn as sns\n",
        "import matplotlib.pyplot as plt\n",
        "from sklearn import metrics\n",
        "from sklearn.model_selection import RepeatedStratifiedKFold\n",
        "from sklearn.model_selection import GridSearchCV\n",
        "\n",
        "# Logistic Regression model\n",
        "# Implement the model\n",
        "logreg = LogisticRegression()\n",
        "\n",
        "# hyperparameters, penalty values chosen to work with all solvers\n",
        "solvers = ['newton-cg', 'lbfgs', 'liblinear']\n",
        "penalty = ['l2']\n",
        "c_values = [100, 10, 1.0, 0.1, 0.01]\n",
        "\n",
        "# define grid search\n",
        "grid = dict(solver=solvers,penalty=penalty,C=c_values)\n",
        "cv = RepeatedStratifiedKFold(n_splits=10, n_repeats=3, random_state=1)\n",
        "grid_search = GridSearchCV(estimator=logreg, param_grid=grid, n_jobs=-1, cv=cv, scoring='accuracy',error_score=0)\n",
        "\n",
        "for i in range(len(imputed_features)):\n",
        "  df = imputed_features[i]\n",
        "  grid_result = grid_search.fit(df.iloc[:, 0:35], df.iloc[: , -1])\n",
        "\n",
        "  # summarize results\n",
        "  print(\"Best: %f using %s\" % (grid_result.best_score_, grid_result.best_params_), imputed_features_names[i])"
      ],
      "metadata": {
        "id": "8NW-mkLdzB43",
        "colab": {
          "base_uri": "https://localhost:8080/"
        },
        "outputId": "d914b15e-359b-4543-e29e-ccf661878950"
      },
      "execution_count": 89,
      "outputs": [
        {
          "output_type": "stream",
          "name": "stdout",
          "text": [
            "Best: 0.608406 using {'C': 1.0, 'penalty': 'l2', 'solver': 'newton-cg'} featuresKNN\n",
            "Best: 0.607496 using {'C': 1.0, 'penalty': 'l2', 'solver': 'liblinear'} featuresMean\n",
            "Best: 0.608210 using {'C': 1.0, 'penalty': 'l2', 'solver': 'newton-cg'} featuresMedian\n",
            "Best: 0.607690 using {'C': 1.0, 'penalty': 'l2', 'solver': 'liblinear'} featuresMICE\n",
            "Best: 0.607366 using {'C': 0.01, 'penalty': 'l2', 'solver': 'newton-cg'} featuresMostFrq\n"
          ]
        }
      ]
    },
    {
      "cell_type": "code",
      "source": [
        "from sklearn import metrics\n",
        "from sklearn.model_selection import KFold\n",
        "from sklearn.model_selection import cross_val_score\n",
        "from numpy import mean\n",
        "from numpy import std\n",
        "\n",
        "featuresMICE"
      ],
      "metadata": {
        "id": "Yf6mVum122Dz",
        "colab": {
          "base_uri": "https://localhost:8080/",
          "height": 488
        },
        "outputId": "a65055e7-7b87-4abc-8d0b-5932e0b54416"
      },
      "execution_count": 45,
      "outputs": [
        {
          "output_type": "execute_result",
          "data": {
            "text/plain": [
              "      CPH_EV_AGE_CALC  TBL.PATIENT.INFO..PI_BL_GENDER  CPH_EV_CI_BMI_CALC  \\\n",
              "0                48.0                             1.0               40.65   \n",
              "3                46.0                             0.0               40.44   \n",
              "6                64.0                             1.0               43.30   \n",
              "7                51.0                             0.0               44.08   \n",
              "8                39.0                             1.0               44.79   \n",
              "...               ...                             ...                 ...   \n",
              "9281             58.0                             0.0               29.60   \n",
              "9282             68.0                             0.0               30.10   \n",
              "9285             60.0                             1.0               30.70   \n",
              "9286             60.0                             1.0               33.31   \n",
              "9287             45.0                             0.0               42.20   \n",
              "\n",
              "      TBL.ALL.EVENTS..AE_SF_ALCO_XS  insulin_resistance  hypertensive  \\\n",
              "0                               0.0                 1.0           0.0   \n",
              "3                               1.0                 0.0           0.0   \n",
              "6                               1.0                 1.0           1.0   \n",
              "7                               1.0                 1.0           1.0   \n",
              "8                               1.0                 0.0           0.0   \n",
              "...                             ...                 ...           ...   \n",
              "9281                            0.0                 1.0           1.0   \n",
              "9282                            0.0                 1.0           1.0   \n",
              "9285                            0.0                 0.0           0.0   \n",
              "9286                            0.0                 1.0           1.0   \n",
              "9287                            0.0                 1.0           1.0   \n",
              "\n",
              "      waist_to_hip_ratio  idf_metabolic_syndrome        eGFR  dyslipidaemia  \\\n",
              "0               0.960952                     0.0  125.760131            0.0   \n",
              "3               1.010877                     1.0   94.341646            1.0   \n",
              "6               0.994614                     1.0   58.405469            1.0   \n",
              "7               1.052950                     1.0   91.020595            1.0   \n",
              "8               0.948056                     1.0   73.487334            0.0   \n",
              "...                  ...                     ...         ...            ...   \n",
              "9281            1.029412                     1.0   98.542027            1.0   \n",
              "9282            1.062052                     1.0   82.832586            1.0   \n",
              "9285            0.971896                     1.0  196.357198            1.0   \n",
              "9286            0.922746                     1.0   76.963054            1.0   \n",
              "9287            1.109705                     1.0  103.724507            1.0   \n",
              "\n",
              "      ...  LIT_NB_ELF      FIB4      NFS      APRI     ADAPT     FIBC3  \\\n",
              "0     ...    9.643921  0.781035  5.05210  0.260546  6.004213 -0.959882   \n",
              "3     ...    7.541367  1.002893  3.82836  0.241935  4.781984 -1.414817   \n",
              "6     ...    8.653671  1.895490  5.89320  0.353403  3.302915 -0.316254   \n",
              "7     ...    7.812546  0.874661  5.48552  0.151274  3.732118 -0.874186   \n",
              "8     ...    7.450760  0.533494  3.97826  0.171642  5.243007 -1.533403   \n",
              "...   ...         ...       ...      ...       ...       ...       ...   \n",
              "9281  ...    9.206493  1.934953  4.38340  0.502546  5.257115 -0.612403   \n",
              "9282  ...    9.519314  1.802747  4.80040  0.293367  5.394725 -0.267306   \n",
              "9285  ...   10.998882  1.516690  3.43080  0.529514  6.391862 -1.157897   \n",
              "9286  ...    9.080536  1.752192  4.80614  0.442655  5.279172 -0.584455   \n",
              "9287  ...    9.548710  1.502097  5.08680  0.463206  4.445419 -0.569282   \n",
              "\n",
              "         ABC3D      BARD  AST_ALT_Ratio  response  \n",
              "0     3.000000  4.000000       0.976744       0.0  \n",
              "3     1.000000  1.000000       0.729730       1.0  \n",
              "6     5.000000  4.000000       0.843750       0.0  \n",
              "7     4.000000  2.000000       0.655172       1.0  \n",
              "8     1.000000  3.000000       1.095238       0.0  \n",
              "...        ...       ...            ...       ...  \n",
              "9281  3.000000  2.370903       0.775818       1.0  \n",
              "9282  5.000000  4.000000       0.851852       0.0  \n",
              "9285  2.000000  3.000000       1.150943       1.0  \n",
              "9286  3.517043  2.857170       0.894310       1.0  \n",
              "9287  3.564513  2.889326       0.794698       0.0  \n",
              "\n",
              "[5318 rows x 36 columns]"
            ],
            "text/html": [
              "\n",
              "  <div id=\"df-20e8d95c-4843-40a7-a483-6b3689575c91\">\n",
              "    <div class=\"colab-df-container\">\n",
              "      <div>\n",
              "<style scoped>\n",
              "    .dataframe tbody tr th:only-of-type {\n",
              "        vertical-align: middle;\n",
              "    }\n",
              "\n",
              "    .dataframe tbody tr th {\n",
              "        vertical-align: top;\n",
              "    }\n",
              "\n",
              "    .dataframe thead th {\n",
              "        text-align: right;\n",
              "    }\n",
              "</style>\n",
              "<table border=\"1\" class=\"dataframe\">\n",
              "  <thead>\n",
              "    <tr style=\"text-align: right;\">\n",
              "      <th></th>\n",
              "      <th>CPH_EV_AGE_CALC</th>\n",
              "      <th>TBL.PATIENT.INFO..PI_BL_GENDER</th>\n",
              "      <th>CPH_EV_CI_BMI_CALC</th>\n",
              "      <th>TBL.ALL.EVENTS..AE_SF_ALCO_XS</th>\n",
              "      <th>insulin_resistance</th>\n",
              "      <th>hypertensive</th>\n",
              "      <th>waist_to_hip_ratio</th>\n",
              "      <th>idf_metabolic_syndrome</th>\n",
              "      <th>eGFR</th>\n",
              "      <th>dyslipidaemia</th>\n",
              "      <th>...</th>\n",
              "      <th>LIT_NB_ELF</th>\n",
              "      <th>FIB4</th>\n",
              "      <th>NFS</th>\n",
              "      <th>APRI</th>\n",
              "      <th>ADAPT</th>\n",
              "      <th>FIBC3</th>\n",
              "      <th>ABC3D</th>\n",
              "      <th>BARD</th>\n",
              "      <th>AST_ALT_Ratio</th>\n",
              "      <th>response</th>\n",
              "    </tr>\n",
              "  </thead>\n",
              "  <tbody>\n",
              "    <tr>\n",
              "      <th>0</th>\n",
              "      <td>48.0</td>\n",
              "      <td>1.0</td>\n",
              "      <td>40.65</td>\n",
              "      <td>0.0</td>\n",
              "      <td>1.0</td>\n",
              "      <td>0.0</td>\n",
              "      <td>0.960952</td>\n",
              "      <td>0.0</td>\n",
              "      <td>125.760131</td>\n",
              "      <td>0.0</td>\n",
              "      <td>...</td>\n",
              "      <td>9.643921</td>\n",
              "      <td>0.781035</td>\n",
              "      <td>5.05210</td>\n",
              "      <td>0.260546</td>\n",
              "      <td>6.004213</td>\n",
              "      <td>-0.959882</td>\n",
              "      <td>3.000000</td>\n",
              "      <td>4.000000</td>\n",
              "      <td>0.976744</td>\n",
              "      <td>0.0</td>\n",
              "    </tr>\n",
              "    <tr>\n",
              "      <th>3</th>\n",
              "      <td>46.0</td>\n",
              "      <td>0.0</td>\n",
              "      <td>40.44</td>\n",
              "      <td>1.0</td>\n",
              "      <td>0.0</td>\n",
              "      <td>0.0</td>\n",
              "      <td>1.010877</td>\n",
              "      <td>1.0</td>\n",
              "      <td>94.341646</td>\n",
              "      <td>1.0</td>\n",
              "      <td>...</td>\n",
              "      <td>7.541367</td>\n",
              "      <td>1.002893</td>\n",
              "      <td>3.82836</td>\n",
              "      <td>0.241935</td>\n",
              "      <td>4.781984</td>\n",
              "      <td>-1.414817</td>\n",
              "      <td>1.000000</td>\n",
              "      <td>1.000000</td>\n",
              "      <td>0.729730</td>\n",
              "      <td>1.0</td>\n",
              "    </tr>\n",
              "    <tr>\n",
              "      <th>6</th>\n",
              "      <td>64.0</td>\n",
              "      <td>1.0</td>\n",
              "      <td>43.30</td>\n",
              "      <td>1.0</td>\n",
              "      <td>1.0</td>\n",
              "      <td>1.0</td>\n",
              "      <td>0.994614</td>\n",
              "      <td>1.0</td>\n",
              "      <td>58.405469</td>\n",
              "      <td>1.0</td>\n",
              "      <td>...</td>\n",
              "      <td>8.653671</td>\n",
              "      <td>1.895490</td>\n",
              "      <td>5.89320</td>\n",
              "      <td>0.353403</td>\n",
              "      <td>3.302915</td>\n",
              "      <td>-0.316254</td>\n",
              "      <td>5.000000</td>\n",
              "      <td>4.000000</td>\n",
              "      <td>0.843750</td>\n",
              "      <td>0.0</td>\n",
              "    </tr>\n",
              "    <tr>\n",
              "      <th>7</th>\n",
              "      <td>51.0</td>\n",
              "      <td>0.0</td>\n",
              "      <td>44.08</td>\n",
              "      <td>1.0</td>\n",
              "      <td>1.0</td>\n",
              "      <td>1.0</td>\n",
              "      <td>1.052950</td>\n",
              "      <td>1.0</td>\n",
              "      <td>91.020595</td>\n",
              "      <td>1.0</td>\n",
              "      <td>...</td>\n",
              "      <td>7.812546</td>\n",
              "      <td>0.874661</td>\n",
              "      <td>5.48552</td>\n",
              "      <td>0.151274</td>\n",
              "      <td>3.732118</td>\n",
              "      <td>-0.874186</td>\n",
              "      <td>4.000000</td>\n",
              "      <td>2.000000</td>\n",
              "      <td>0.655172</td>\n",
              "      <td>1.0</td>\n",
              "    </tr>\n",
              "    <tr>\n",
              "      <th>8</th>\n",
              "      <td>39.0</td>\n",
              "      <td>1.0</td>\n",
              "      <td>44.79</td>\n",
              "      <td>1.0</td>\n",
              "      <td>0.0</td>\n",
              "      <td>0.0</td>\n",
              "      <td>0.948056</td>\n",
              "      <td>1.0</td>\n",
              "      <td>73.487334</td>\n",
              "      <td>0.0</td>\n",
              "      <td>...</td>\n",
              "      <td>7.450760</td>\n",
              "      <td>0.533494</td>\n",
              "      <td>3.97826</td>\n",
              "      <td>0.171642</td>\n",
              "      <td>5.243007</td>\n",
              "      <td>-1.533403</td>\n",
              "      <td>1.000000</td>\n",
              "      <td>3.000000</td>\n",
              "      <td>1.095238</td>\n",
              "      <td>0.0</td>\n",
              "    </tr>\n",
              "    <tr>\n",
              "      <th>...</th>\n",
              "      <td>...</td>\n",
              "      <td>...</td>\n",
              "      <td>...</td>\n",
              "      <td>...</td>\n",
              "      <td>...</td>\n",
              "      <td>...</td>\n",
              "      <td>...</td>\n",
              "      <td>...</td>\n",
              "      <td>...</td>\n",
              "      <td>...</td>\n",
              "      <td>...</td>\n",
              "      <td>...</td>\n",
              "      <td>...</td>\n",
              "      <td>...</td>\n",
              "      <td>...</td>\n",
              "      <td>...</td>\n",
              "      <td>...</td>\n",
              "      <td>...</td>\n",
              "      <td>...</td>\n",
              "      <td>...</td>\n",
              "      <td>...</td>\n",
              "    </tr>\n",
              "    <tr>\n",
              "      <th>9281</th>\n",
              "      <td>58.0</td>\n",
              "      <td>0.0</td>\n",
              "      <td>29.60</td>\n",
              "      <td>0.0</td>\n",
              "      <td>1.0</td>\n",
              "      <td>1.0</td>\n",
              "      <td>1.029412</td>\n",
              "      <td>1.0</td>\n",
              "      <td>98.542027</td>\n",
              "      <td>1.0</td>\n",
              "      <td>...</td>\n",
              "      <td>9.206493</td>\n",
              "      <td>1.934953</td>\n",
              "      <td>4.38340</td>\n",
              "      <td>0.502546</td>\n",
              "      <td>5.257115</td>\n",
              "      <td>-0.612403</td>\n",
              "      <td>3.000000</td>\n",
              "      <td>2.370903</td>\n",
              "      <td>0.775818</td>\n",
              "      <td>1.0</td>\n",
              "    </tr>\n",
              "    <tr>\n",
              "      <th>9282</th>\n",
              "      <td>68.0</td>\n",
              "      <td>0.0</td>\n",
              "      <td>30.10</td>\n",
              "      <td>0.0</td>\n",
              "      <td>1.0</td>\n",
              "      <td>1.0</td>\n",
              "      <td>1.062052</td>\n",
              "      <td>1.0</td>\n",
              "      <td>82.832586</td>\n",
              "      <td>1.0</td>\n",
              "      <td>...</td>\n",
              "      <td>9.519314</td>\n",
              "      <td>1.802747</td>\n",
              "      <td>4.80040</td>\n",
              "      <td>0.293367</td>\n",
              "      <td>5.394725</td>\n",
              "      <td>-0.267306</td>\n",
              "      <td>5.000000</td>\n",
              "      <td>4.000000</td>\n",
              "      <td>0.851852</td>\n",
              "      <td>0.0</td>\n",
              "    </tr>\n",
              "    <tr>\n",
              "      <th>9285</th>\n",
              "      <td>60.0</td>\n",
              "      <td>1.0</td>\n",
              "      <td>30.70</td>\n",
              "      <td>0.0</td>\n",
              "      <td>0.0</td>\n",
              "      <td>0.0</td>\n",
              "      <td>0.971896</td>\n",
              "      <td>1.0</td>\n",
              "      <td>196.357198</td>\n",
              "      <td>1.0</td>\n",
              "      <td>...</td>\n",
              "      <td>10.998882</td>\n",
              "      <td>1.516690</td>\n",
              "      <td>3.43080</td>\n",
              "      <td>0.529514</td>\n",
              "      <td>6.391862</td>\n",
              "      <td>-1.157897</td>\n",
              "      <td>2.000000</td>\n",
              "      <td>3.000000</td>\n",
              "      <td>1.150943</td>\n",
              "      <td>1.0</td>\n",
              "    </tr>\n",
              "    <tr>\n",
              "      <th>9286</th>\n",
              "      <td>60.0</td>\n",
              "      <td>1.0</td>\n",
              "      <td>33.31</td>\n",
              "      <td>0.0</td>\n",
              "      <td>1.0</td>\n",
              "      <td>1.0</td>\n",
              "      <td>0.922746</td>\n",
              "      <td>1.0</td>\n",
              "      <td>76.963054</td>\n",
              "      <td>1.0</td>\n",
              "      <td>...</td>\n",
              "      <td>9.080536</td>\n",
              "      <td>1.752192</td>\n",
              "      <td>4.80614</td>\n",
              "      <td>0.442655</td>\n",
              "      <td>5.279172</td>\n",
              "      <td>-0.584455</td>\n",
              "      <td>3.517043</td>\n",
              "      <td>2.857170</td>\n",
              "      <td>0.894310</td>\n",
              "      <td>1.0</td>\n",
              "    </tr>\n",
              "    <tr>\n",
              "      <th>9287</th>\n",
              "      <td>45.0</td>\n",
              "      <td>0.0</td>\n",
              "      <td>42.20</td>\n",
              "      <td>0.0</td>\n",
              "      <td>1.0</td>\n",
              "      <td>1.0</td>\n",
              "      <td>1.109705</td>\n",
              "      <td>1.0</td>\n",
              "      <td>103.724507</td>\n",
              "      <td>1.0</td>\n",
              "      <td>...</td>\n",
              "      <td>9.548710</td>\n",
              "      <td>1.502097</td>\n",
              "      <td>5.08680</td>\n",
              "      <td>0.463206</td>\n",
              "      <td>4.445419</td>\n",
              "      <td>-0.569282</td>\n",
              "      <td>3.564513</td>\n",
              "      <td>2.889326</td>\n",
              "      <td>0.794698</td>\n",
              "      <td>0.0</td>\n",
              "    </tr>\n",
              "  </tbody>\n",
              "</table>\n",
              "<p>5318 rows × 36 columns</p>\n",
              "</div>\n",
              "      <button class=\"colab-df-convert\" onclick=\"convertToInteractive('df-20e8d95c-4843-40a7-a483-6b3689575c91')\"\n",
              "              title=\"Convert this dataframe to an interactive table.\"\n",
              "              style=\"display:none;\">\n",
              "        \n",
              "  <svg xmlns=\"http://www.w3.org/2000/svg\" height=\"24px\"viewBox=\"0 0 24 24\"\n",
              "       width=\"24px\">\n",
              "    <path d=\"M0 0h24v24H0V0z\" fill=\"none\"/>\n",
              "    <path d=\"M18.56 5.44l.94 2.06.94-2.06 2.06-.94-2.06-.94-.94-2.06-.94 2.06-2.06.94zm-11 1L8.5 8.5l.94-2.06 2.06-.94-2.06-.94L8.5 2.5l-.94 2.06-2.06.94zm10 10l.94 2.06.94-2.06 2.06-.94-2.06-.94-.94-2.06-.94 2.06-2.06.94z\"/><path d=\"M17.41 7.96l-1.37-1.37c-.4-.4-.92-.59-1.43-.59-.52 0-1.04.2-1.43.59L10.3 9.45l-7.72 7.72c-.78.78-.78 2.05 0 2.83L4 21.41c.39.39.9.59 1.41.59.51 0 1.02-.2 1.41-.59l7.78-7.78 2.81-2.81c.8-.78.8-2.07 0-2.86zM5.41 20L4 18.59l7.72-7.72 1.47 1.35L5.41 20z\"/>\n",
              "  </svg>\n",
              "      </button>\n",
              "      \n",
              "  <style>\n",
              "    .colab-df-container {\n",
              "      display:flex;\n",
              "      flex-wrap:wrap;\n",
              "      gap: 12px;\n",
              "    }\n",
              "\n",
              "    .colab-df-convert {\n",
              "      background-color: #E8F0FE;\n",
              "      border: none;\n",
              "      border-radius: 50%;\n",
              "      cursor: pointer;\n",
              "      display: none;\n",
              "      fill: #1967D2;\n",
              "      height: 32px;\n",
              "      padding: 0 0 0 0;\n",
              "      width: 32px;\n",
              "    }\n",
              "\n",
              "    .colab-df-convert:hover {\n",
              "      background-color: #E2EBFA;\n",
              "      box-shadow: 0px 1px 2px rgba(60, 64, 67, 0.3), 0px 1px 3px 1px rgba(60, 64, 67, 0.15);\n",
              "      fill: #174EA6;\n",
              "    }\n",
              "\n",
              "    [theme=dark] .colab-df-convert {\n",
              "      background-color: #3B4455;\n",
              "      fill: #D2E3FC;\n",
              "    }\n",
              "\n",
              "    [theme=dark] .colab-df-convert:hover {\n",
              "      background-color: #434B5C;\n",
              "      box-shadow: 0px 1px 3px 1px rgba(0, 0, 0, 0.15);\n",
              "      filter: drop-shadow(0px 1px 2px rgba(0, 0, 0, 0.3));\n",
              "      fill: #FFFFFF;\n",
              "    }\n",
              "  </style>\n",
              "\n",
              "      <script>\n",
              "        const buttonEl =\n",
              "          document.querySelector('#df-20e8d95c-4843-40a7-a483-6b3689575c91 button.colab-df-convert');\n",
              "        buttonEl.style.display =\n",
              "          google.colab.kernel.accessAllowed ? 'block' : 'none';\n",
              "\n",
              "        async function convertToInteractive(key) {\n",
              "          const element = document.querySelector('#df-20e8d95c-4843-40a7-a483-6b3689575c91');\n",
              "          const dataTable =\n",
              "            await google.colab.kernel.invokeFunction('convertToInteractive',\n",
              "                                                     [key], {});\n",
              "          if (!dataTable) return;\n",
              "\n",
              "          const docLinkHtml = 'Like what you see? Visit the ' +\n",
              "            '<a target=\"_blank\" href=https://colab.research.google.com/notebooks/data_table.ipynb>data table notebook</a>'\n",
              "            + ' to learn more about interactive tables.';\n",
              "          element.innerHTML = '';\n",
              "          dataTable['output_type'] = 'display_data';\n",
              "          await google.colab.output.renderOutput(dataTable, element);\n",
              "          const docLink = document.createElement('div');\n",
              "          docLink.innerHTML = docLinkHtml;\n",
              "          element.appendChild(docLink);\n",
              "        }\n",
              "      </script>\n",
              "    </div>\n",
              "  </div>\n",
              "  "
            ]
          },
          "metadata": {},
          "execution_count": 45
        }
      ]
    },
    {
      "cell_type": "code",
      "source": [
        "# prepare the cross-validation procedure\n",
        "cv = KFold(n_splits=10, random_state=1, shuffle=True)\n",
        "# create model\n",
        "model = LogisticRegression()\n",
        "# evaluate model\n",
        "scores = cross_val_score(model, featuresMICE.iloc[:, 0:35], featuresMICE.iloc[: , -1], scoring='accuracy', cv=cv, n_jobs=-1)\n",
        "# report performance\n",
        "print('Accuracy: %.3f (%.3f)' % (mean(scores), std(scores)))"
      ],
      "metadata": {
        "id": "hu1f2ThtBo2r",
        "outputId": "3c15bd7a-57a6-4b73-c04f-b8e0bb233dea",
        "colab": {
          "base_uri": "https://localhost:8080/"
        }
      },
      "execution_count": 96,
      "outputs": [
        {
          "output_type": "stream",
          "name": "stdout",
          "text": [
            "Accuracy: 0.657 (0.017)\n"
          ]
        }
      ]
    },
    {
      "cell_type": "markdown",
      "source": [
        "### SVM"
      ],
      "metadata": {
        "id": "JlZ4HqMH2TM0"
      }
    },
    {
      "cell_type": "code",
      "source": [
        "from sklearn import svm\n",
        "from sklearn.model_selection import train_test_split\n",
        "from sklearn.metrics import classification_report\n",
        "\n"
      ],
      "metadata": {
        "id": "0qJ1-H9m_5Z8"
      },
      "execution_count": null,
      "outputs": []
    },
    {
      "cell_type": "markdown",
      "source": [
        "### XGBoost "
      ],
      "metadata": {
        "id": "RdtRB2_w29RB"
      }
    },
    {
      "cell_type": "code",
      "source": [
        "from xgboost import XGBClassifier\n",
        "from sklearn.metrics import accuracy_score\n",
        "\n",
        "# Implement the model\n",
        "model = XGBClassifier(use_label_encoder=False, eval_metric='mlogloss')\n",
        "\n",
        "for i in range(len(imputed_features)):\n",
        "  df = imputed_features[i]\n",
        "  X_train, X_test, y_train, y_test = train_test(df)\n",
        "  model.fit(X_train, y_train)\n",
        "  y_pred = model.predict(X_test)\n",
        "  accuracy = accuracy_score(y_test, y_pred)\n",
        "  print(accuracy)\n",
        "\n"
      ],
      "metadata": {
        "id": "Ow2S3ALZFPDK"
      },
      "execution_count": null,
      "outputs": []
    },
    {
      "cell_type": "code",
      "source": [
        "from sklearn.model_selection import train_test_split\n",
        "\n",
        "model = XGBClassifier(use_label_encoder=False, eval_metric='mlogloss')\n",
        "X_train, X_test, y_train, y_test = train_test_split(featuresMICE.iloc[:, 0:35], featuresMICE['response'], test_size=0.33, random_state=42)\n",
        "model.fit(X_train, y_train)\n",
        "y_pred = model.predict(X_test)\n",
        "accuracy = accuracy_score(y_test, y_pred)\n",
        "print(accuracy)"
      ],
      "metadata": {
        "colab": {
          "base_uri": "https://localhost:8080/"
        },
        "id": "A27tPPMMRJhW",
        "outputId": "5fcc96c4-5fbe-4ba3-9de5-84a629697ad4"
      },
      "execution_count": 98,
      "outputs": [
        {
          "output_type": "stream",
          "name": "stdout",
          "text": [
            "0.6622325043377675\n"
          ]
        }
      ]
    },
    {
      "cell_type": "markdown",
      "source": [
        "### Random Forest"
      ],
      "metadata": {
        "id": "I3JKdx8O4p5E"
      }
    },
    {
      "cell_type": "code",
      "source": [
        "from sklearn.ensemble import RandomForestRegressor\n",
        "\n",
        "def model_RF(fdf, response):\n",
        "  # Pull the correct resposne variable from the dataframe\n",
        "  y = main_df[response]\n",
        "  # Remove all rows with missing observations\n",
        "  X = fdf\n",
        "  X['y'] = y\n",
        "  X = fdf.dropna()\n",
        "  # Split data into test and trian\n",
        "  X_train, X_test, y_train, y_test = train_test_split(X.iloc[:, 0:35], X.iloc[: , -1], test_size=0.20, random_state=0)\n",
        "  # Implement the model\n",
        "  regressor = RandomForestRegressor(n_estimators = 100, random_state = 0)\n",
        "  regressor.fit(X_train, y_train)\n",
        "  y_pred = regressor.predict(X_test)\n",
        "\n",
        "  #use model to predict probability that given y value is 1\n",
        "  y_pred_proba = regressor.predict_proba(X_test)[::,1]\n",
        "\n",
        "  #calculate AUC of model\n",
        "  auc = metrics.roc_auc_score(y_test, y_pred_proba)\n",
        "\n",
        "  #print AUC score\n",
        "  print(auc)\n",
        "\n",
        "  # Calculate F-score\n",
        "  report = classification_report(y_test, y_pred)\n",
        "  print(report)\n",
        "\n",
        "  return y_pred"
      ],
      "metadata": {
        "id": "x5u3tH-14vNl"
      },
      "execution_count": null,
      "outputs": []
    },
    {
      "cell_type": "markdown",
      "source": [
        "## Model Imports"
      ],
      "metadata": {
        "id": "HBvKTEZ5UUZ0"
      }
    },
    {
      "cell_type": "code",
      "source": [
        "from sklearn.linear_model import LogisticRegression\n",
        "from sklearn.model_selection import train_test_split\n",
        "from sklearn.metrics import classification_report\n",
        "import seaborn as sns\n",
        "import matplotlib.pyplot as plt\n",
        "from sklearn import metrics"
      ],
      "metadata": {
        "id": "6Ls5dT7oUYHP"
      },
      "execution_count": null,
      "outputs": []
    },
    {
      "cell_type": "markdown",
      "source": [
        "# Pipeline"
      ],
      "metadata": {
        "id": "LWqwTTKk7v9v"
      }
    },
    {
      "cell_type": "markdown",
      "source": [
        "## Imputation and Target Variable Selection"
      ],
      "metadata": {
        "id": "9liHjz7i9nf0"
      }
    },
    {
      "cell_type": "code",
      "source": [
        "compare_denisty(\"CPH_EV_AGE_CALC\",featuresKNN)"
      ],
      "metadata": {
        "id": "Y18vqJ-RKnND"
      },
      "execution_count": null,
      "outputs": []
    },
    {
      "cell_type": "markdown",
      "source": [
        "# New workflow"
      ],
      "metadata": {
        "id": "n9cE1mHW9sCK"
      }
    },
    {
      "cell_type": "markdown",
      "source": [
        "## Split"
      ],
      "metadata": {
        "id": "dI43cWj4blmP"
      }
    },
    {
      "cell_type": "code",
      "source": [
        "# Filter to only select basline event types\n",
        "main_df['CPH_EV_EVENT_TYPE'] = df_raw['CPH_EV_EVENT_TYPE']\n",
        "main_df_base = main_df[main_df['CPH_EV_EVENT_TYPE'] == 'Baseline']\n",
        "main_df_base = main_df_base.iloc[: , :-1]"
      ],
      "metadata": {
        "id": "lzCDMHkmcXCz"
      },
      "execution_count": 121,
      "outputs": []
    },
    {
      "cell_type": "code",
      "source": [
        "# Loop to check for boolean columns\n",
        "for column in main_df_base:\n",
        "  if main_df_base[column].max() == 1 and main_df_base[column].min() == 0:\n",
        "    main_df_base[column] = main_df_base[column].astype(bool)"
      ],
      "metadata": {
        "id": "Kp5ovn6Fep_I"
      },
      "execution_count": 122,
      "outputs": []
    },
    {
      "cell_type": "code",
      "source": [
        "main_df_base.dtypes"
      ],
      "metadata": {
        "id": "ui-qdgc8gCc8"
      },
      "execution_count": null,
      "outputs": []
    },
    {
      "cell_type": "code",
      "source": [
        "X_train, X_test, y_train, y_test = train_test_split(main_df_base.iloc[:, 0:35], main_df_base['response_7'], test_size=0.33, random_state=42)"
      ],
      "metadata": {
        "id": "k5eF8jShbPwa"
      },
      "execution_count": 125,
      "outputs": []
    },
    {
      "cell_type": "markdown",
      "source": [
        "## Imputing"
      ],
      "metadata": {
        "id": "-PBHB5Ohbsb4"
      }
    },
    {
      "cell_type": "code",
      "source": [
        "X_train_imputed = nan2mice(X_train)\n",
        "X_test_imputed = nan2mice(X_test)"
      ],
      "metadata": {
        "id": "1CEKOcp_bsB1"
      },
      "execution_count": null,
      "outputs": []
    },
    {
      "cell_type": "markdown",
      "source": [
        "## Scaling "
      ],
      "metadata": {
        "id": "Eak0dOKfeRe7"
      }
    },
    {
      "cell_type": "code",
      "source": [
        "from sklearn import preprocessing\n",
        "\n",
        "to_scale_train = X_train_imputed.select_dtypes(include=[np.float64])\n",
        "to_scale_test = X_train_imputed.select_dtypes(include=[np.float64])\n",
        "\n",
        "# standardization of dependent variables\n",
        "X_train_imputed_scaled = preprocessing.scale(to_scale_train)\n",
        "X_test_imputed_scaled = preprocessing.scale(to_scale_test)"
      ],
      "metadata": {
        "id": "jtEdBj6zeUVH"
      },
      "execution_count": 135,
      "outputs": []
    },
    {
      "cell_type": "code",
      "source": [
        "x_df_train = pd.DataFrame(X_train_imputed_scaled)\n",
        "x_df_train[35] = y_train\n",
        "x_df_train.dropna(inplace=True)\n",
        "\n",
        "x_df_test = pd.DataFrame(X_test_imputed_scaled)\n",
        "x_df_test[35] = y_test\n",
        "x_df_test.dropna(inplace=True)"
      ],
      "metadata": {
        "id": "knpMhRKFg8u_"
      },
      "execution_count": 137,
      "outputs": []
    },
    {
      "cell_type": "markdown",
      "source": [
        "## Model"
      ],
      "metadata": {
        "id": "fzUaEDdhi1ZE"
      }
    },
    {
      "cell_type": "code",
      "source": [
        "from sklearn.model_selection import train_test_split\n",
        "from sklearn.metrics import classification_report\n",
        "\n",
        "model = XGBClassifier(use_label_encoder=False, eval_metric='mlogloss')\n",
        "model.fit(x_df_train.iloc[:, 0:35], x_df_train[35])\n",
        "y_pred = model.predict(x_df_test.iloc[:, 0:35])\n",
        "y_pred = y_pred.astype(bool)\n",
        "print(classification_report(x_df_test[35].astype(bool), y_pred))"
      ],
      "metadata": {
        "colab": {
          "base_uri": "https://localhost:8080/"
        },
        "id": "x7ckE6DTi4eV",
        "outputId": "803b1663-52dd-4993-9c10-691b2b463782"
      },
      "execution_count": 144,
      "outputs": [
        {
          "output_type": "stream",
          "name": "stdout",
          "text": [
            "              precision    recall  f1-score   support\n",
            "\n",
            "       False       0.60      0.93      0.73       899\n",
            "        True       0.45      0.09      0.15       615\n",
            "\n",
            "    accuracy                           0.59      1514\n",
            "   macro avg       0.53      0.51      0.44      1514\n",
            "weighted avg       0.54      0.59      0.49      1514\n",
            "\n"
          ]
        }
      ]
    }
  ]
}